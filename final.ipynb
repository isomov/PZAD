{
 "cells": [
  {
   "cell_type": "markdown",
   "metadata": {},
   "source": [
    "# Importing..."
   ]
  },
  {
   "cell_type": "code",
   "execution_count": 2,
   "metadata": {},
   "outputs": [
    {
     "name": "stderr",
     "output_type": "stream",
     "text": [
      "/anaconda3/lib/python3.6/importlib/_bootstrap.py:219: RuntimeWarning: numpy.ufunc size changed, may indicate binary incompatibility. Expected 216, got 192\n",
      "  return f(*args, **kwds)\n",
      "/anaconda3/lib/python3.6/importlib/_bootstrap.py:219: RuntimeWarning: numpy.dtype size changed, may indicate binary incompatibility. Expected 96, got 88\n",
      "  return f(*args, **kwds)\n",
      "/anaconda3/lib/python3.6/importlib/_bootstrap.py:219: RuntimeWarning: numpy.ufunc size changed, may indicate binary incompatibility. Expected 216, got 192\n",
      "  return f(*args, **kwds)\n",
      "/anaconda3/lib/python3.6/importlib/_bootstrap.py:219: RuntimeWarning: numpy.dtype size changed, may indicate binary incompatibility. Expected 96, got 88\n",
      "  return f(*args, **kwds)\n",
      "/anaconda3/lib/python3.6/importlib/_bootstrap.py:219: RuntimeWarning: numpy.ufunc size changed, may indicate binary incompatibility. Expected 216, got 192\n",
      "  return f(*args, **kwds)\n"
     ]
    }
   ],
   "source": [
    "import matplotlib.pyplot as plt\n",
    "import numpy as np\n",
    "import pandas as pd\n",
    "import seaborn as sns\n",
    "from IPython.display import display\n",
    "from scipy import sparse, stats\n",
    "from scipy.linalg import svd\n",
    "from sklearn import preprocessing\n",
    "from sklearn.decomposition import TruncatedSVD\n",
    "from sklearn.ensemble import RandomForestClassifier\n",
    "from sklearn.metrics import f1_score, roc_auc_score\n",
    "from sklearn.model_selection import (KFold, StratifiedKFold, cross_val_score,\n",
    "                                     cross_validate, train_test_split, cross_val_predict)\n",
    "from tqdm import tqdm\n",
    "from xgboost import XGBClassifier\n",
    "from sklearn.svm import SVC\n",
    "import lightgbm as lgb\n",
    "from sklearn.neighbors import KNeighborsClassifier\n",
    "from sklearn.gaussian_process import GaussianProcessClassifier\n",
    "from sklearn.linear_model import LogisticRegression\n",
    "import implicit\n",
    "from scipy.sparse import csr_matrix\n",
    "import umap\n",
    "from sklearn.neural_network import MLPClassifier"
   ]
  },
  {
   "cell_type": "markdown",
   "metadata": {},
   "source": [
    "# Some functions"
   ]
  },
  {
   "cell_type": "code",
   "execution_count": 4,
   "metadata": {},
   "outputs": [],
   "source": [
    "def cross_validation_score_statement(estimator,\n",
    "                                     X,\n",
    "                                     y,\n",
    "                                     scoring,\n",
    "                                     n_splits=5,\n",
    "                                     statement=None,\n",
    "                                     random_state=0):\n",
    "    cv = StratifiedKFold(n_splits=n_splits,\n",
    "                             shuffle=True,\n",
    "                             random_state=random_state)\n",
    "    cv_iter = list(cv.split(X, y))\n",
    "    scores = []\n",
    "\n",
    "    for train, test in cv_iter:\n",
    "        estimator.fit(X.iloc[train, :].values, y.iloc[train].values)\n",
    "        if statement is not None:\n",
    "            y_statement = y.iloc[test].loc[statement[test]]\n",
    "            pred_statement = estimator.predict_proba(\n",
    "                X.iloc[test, :].loc[statement[test]].values)[:, 1]\n",
    "        else:\n",
    "            y_statement = y.iloc[test]\n",
    "            pred_statement = estimator.predict_proba(X.iloc[test, :].values)[:, 1]\n",
    "        scores.append(scoring(y_statement, pred_statement))\n",
    "    return np.array(scores)"
   ]
  },
  {
   "cell_type": "code",
   "execution_count": 5,
   "metadata": {},
   "outputs": [],
   "source": [
    "def get_xgb(X, Y): \n",
    "    res_ = []\n",
    "    n_estimators = [100, 200, 250]\n",
    "    min_child = [2,3,4,5]\n",
    "    max_depth = [2,3]\n",
    "    lr = [0.017, 0.009, 0.005, 0.02, 0.1]\n",
    "    for e in n_estimators:\n",
    "        for md in max_depth:\n",
    "            for mcw in min_child:\n",
    "                for l in lr:\n",
    "                    print(e, md, mcw, l)\n",
    "                    res = cross_validation_score_statement(XGBClassifier(n_jobs=8, random_state=0, learning_rate=l, min_child_weight=mcw, max_depth=md, n_estimators=e),\n",
    "                                             X.drop(columns=['id']),\n",
    "                                             Y,\n",
    "                                             roc_auc_score,\n",
    "                                             n_splits=3,\n",
    "                                             statement=None,\n",
    "                                             random_state=0)\n",
    "                    print(res.mean())\n",
    "                    res_.append(((e, md, mcw, l), res.mean(), res))\n",
    "    return sorted(res_, key=lambda x: x[1])[-1]"
   ]
  },
  {
   "cell_type": "code",
   "execution_count": 6,
   "metadata": {},
   "outputs": [],
   "source": [
    "def get_stack_preds(estim, X, target, n_splits):\n",
    "    return cross_val_predict(estim, X, target, cv=n_splits, n_jobs=8, method='predict_proba')[:, 1]"
   ]
  },
  {
   "cell_type": "markdown",
   "metadata": {},
   "source": [
    "# Datasets"
   ]
  },
  {
   "cell_type": "code",
   "execution_count": 7,
   "metadata": {},
   "outputs": [],
   "source": [
    "TRAIN_PATH = 'train/'\n",
    "X1 = pd.read_csv(TRAIN_PATH + 'X1.csv')\n",
    "X2 = pd.read_csv(TRAIN_PATH + 'X2.csv')\n",
    "X3 = pd.read_csv(TRAIN_PATH + 'X3.csv')\n",
    "\n",
    "Y = pd.read_csv(TRAIN_PATH + 'Y.csv')\n",
    "\n",
    "TEST_PATH = 'test/'\n",
    "\n",
    "X1_test = pd.read_csv(TEST_PATH + 'X1.csv')\n",
    "X2_test = pd.read_csv(TEST_PATH + 'X2.csv')\n",
    "X3_test = pd.read_csv(TEST_PATH + 'X3.csv')"
   ]
  },
  {
   "cell_type": "markdown",
   "metadata": {},
   "source": [
    "# Feature extraction"
   ]
  },
  {
   "cell_type": "markdown",
   "metadata": {},
   "source": [
    "## 20 and 10 factors from ALS"
   ]
  },
  {
   "cell_type": "code",
   "execution_count": 8,
   "metadata": {
    "scrolled": true
   },
   "outputs": [
    {
     "name": "stderr",
     "output_type": "stream",
     "text": [
      "WARNING:root:OpenBLAS detected. Its highly recommend to set the environment variable 'export OPENBLAS_NUM_THREADS=1' to disable its internal multithreading\n"
     ]
    },
    {
     "data": {
      "application/vnd.jupyter.widget-view+json": {
       "model_id": "ee44e8e8c9054877a4fb3ff3a8b32b45",
       "version_major": 2,
       "version_minor": 0
      },
      "text/html": [
       "<p>Failed to display Jupyter Widget of type <code>HBox</code>.</p>\n",
       "<p>\n",
       "  If you're reading this message in the Jupyter Notebook or JupyterLab Notebook, it may mean\n",
       "  that the widgets JavaScript is still loading. If this message persists, it\n",
       "  likely means that the widgets JavaScript library is either not installed or\n",
       "  not enabled. See the <a href=\"https://ipywidgets.readthedocs.io/en/stable/user_install.html\">Jupyter\n",
       "  Widgets Documentation</a> for setup instructions.\n",
       "</p>\n",
       "<p>\n",
       "  If you're reading this message in another frontend (for example, a static\n",
       "  rendering on GitHub or <a href=\"https://nbviewer.jupyter.org/\">NBViewer</a>),\n",
       "  it may mean that your frontend doesn't currently support widgets.\n",
       "</p>\n"
      ],
      "text/plain": [
       "HBox(children=(IntProgress(value=0, max=20), HTML(value='')))"
      ]
     },
     "metadata": {},
     "output_type": "display_data"
    },
    {
     "name": "stdout",
     "output_type": "stream",
     "text": [
      "\n"
     ]
    }
   ],
   "source": [
    "k=20\n",
    "\n",
    "model = implicit.als.AlternatingLeastSquares(factors=k, iterations=20, calculate_training_loss=True, regularization=1)\n",
    "X2_ = X2.append(X2_test).sort_values('id')\n",
    "res = csr_matrix((np.ones(len(X2_)), (X2_['id'], X2_['A'])))\n",
    "model.fit(res)\n",
    "fac = pd.DataFrame(model.item_factors[X1['id']], columns=list(range(26, 26 + k)))\n",
    "fac_test = pd.DataFrame(model.item_factors[X1_test['id']], columns=list(range(26, 26 + k)))\n",
    "fac['id'] = X1['id']\n",
    "fac_test['id'] = X1_test['id']\n",
    "X = X1.merge(fac, on='id').drop(columns=['19'])\n",
    "X_test = X1_test.merge(fac_test, on='id').drop(columns=['19'])"
   ]
  },
  {
   "cell_type": "code",
   "execution_count": 9,
   "metadata": {
    "scrolled": true
   },
   "outputs": [
    {
     "data": {
      "application/vnd.jupyter.widget-view+json": {
       "model_id": "a01395f2cc3b4e4b99c654fcdb284adc",
       "version_major": 2,
       "version_minor": 0
      },
      "text/html": [
       "<p>Failed to display Jupyter Widget of type <code>HBox</code>.</p>\n",
       "<p>\n",
       "  If you're reading this message in the Jupyter Notebook or JupyterLab Notebook, it may mean\n",
       "  that the widgets JavaScript is still loading. If this message persists, it\n",
       "  likely means that the widgets JavaScript library is either not installed or\n",
       "  not enabled. See the <a href=\"https://ipywidgets.readthedocs.io/en/stable/user_install.html\">Jupyter\n",
       "  Widgets Documentation</a> for setup instructions.\n",
       "</p>\n",
       "<p>\n",
       "  If you're reading this message in another frontend (for example, a static\n",
       "  rendering on GitHub or <a href=\"https://nbviewer.jupyter.org/\">NBViewer</a>),\n",
       "  it may mean that your frontend doesn't currently support widgets.\n",
       "</p>\n"
      ],
      "text/plain": [
       "HBox(children=(IntProgress(value=0, max=20), HTML(value='')))"
      ]
     },
     "metadata": {},
     "output_type": "display_data"
    },
    {
     "name": "stdout",
     "output_type": "stream",
     "text": [
      "\n"
     ]
    }
   ],
   "source": [
    "k=10\n",
    "\n",
    "model = implicit.als.AlternatingLeastSquares(factors=k, iterations=20, calculate_training_loss=True, regularization=1)\n",
    "X2_ = X2.append(X2_test).sort_values('id')\n",
    "res = csr_matrix((np.ones(len(X2_)), (X2_['id'], X2_['A'])))\n",
    "model.fit(res)\n",
    "fac = pd.DataFrame(model.item_factors[X1['id']], columns=list(range(26, 26 + k)))\n",
    "fac_test = pd.DataFrame(model.item_factors[X1_test['id']], columns=list(range(26, 26 + k)))\n",
    "fac['id'] = X1['id']\n",
    "fac_test['id'] = X1_test['id']\n",
    "X_ = X1.merge(fac, on='id').drop(columns=['19'])\n",
    "X_test_ = X1_test.merge(fac_test, on='id').drop(columns=['19'])"
   ]
  },
  {
   "cell_type": "code",
   "execution_count": 10,
   "metadata": {},
   "outputs": [],
   "source": [
    "estims_data = [('xgb_1', XGBClassifier(learning_rate=0.02, max_depth=3, min_child_weight=5, n_estimators=100, random_state=0), X, X_test),\n",
    "              ('lr_1', LogisticRegression(C=3, class_weight='balanced'), (X - X.mean()) / X.std(), (X_test- X.mean()) / X.std()),\n",
    "              ('rf_1', RandomForestClassifier(n_estimators=300, criterion='entropy', max_depth=3, random_state=0), X, X_test),\n",
    "               ('svm_r', SVC(C=3, class_weight='balanced', probability=True, random_state=0), (X - X.mean()) / X.std(), (X_test- X.mean()) / X.std()),\n",
    "               ('nn_l', MLPClassifier((200, 100,), solver='sgd'), (X - X.mean()) / X.std(), (X_test- X.mean()) / X.std()),\n",
    "                ('xgb_2', XGBClassifier(learning_rate=0.02, max_depth=2, min_child_weight=5, n_estimators=250, random_state=0), X_, X_test_),\n",
    "              ('lr_2', LogisticRegression(C=3, class_weight='balanced'), (X_ - X_.mean()) / X_.std(), (X_test_- X_.mean()) / X_.std()),\n",
    "              ('rf_2', RandomForestClassifier(n_estimators=200, criterion='entropy', max_depth=3, random_state=0), X_, X_test_),\n",
    "               ('svm_r_2', SVC(C=3, class_weight='balanced', probability=True, random_state=0), (X_ - X_.mean()) / X_.std(), (X_test_- X_.mean()) / X_.std()),\n",
    "               ('nn_2', MLPClassifier((200, 100,), solver='sgd'), (X_ - X_.mean()) / X_.std(), (X_test_- X_.mean()) / X_.std()),\n",
    "              ]"
   ]
  },
  {
   "cell_type": "markdown",
   "metadata": {},
   "source": [
    "## Stacking for ALS features"
   ]
  },
  {
   "cell_type": "code",
   "execution_count": 11,
   "metadata": {},
   "outputs": [],
   "source": [
    "stacked_preds_1 = {}\n",
    "test_preds_1 = {}\n",
    "stacked_preds_2 = {}\n",
    "test_preds_2 = {}\n",
    "stacked_preds_3 = {}\n",
    "test_preds_3 = {}\n",
    "stacked_preds_4 = {}\n",
    "test_preds_4 = {}\n",
    "stacked_preds_5 = {}\n",
    "test_preds_5 = {}"
   ]
  },
  {
   "cell_type": "code",
   "execution_count": 13,
   "metadata": {},
   "outputs": [
    {
     "name": "stdout",
     "output_type": "stream",
     "text": [
      "xgb_1\n",
      "0.6194710050165866\n",
      "lr_1\n",
      "0.574777873824353\n",
      "rf_1\n",
      "0.6081088429342968\n",
      "svm_r\n",
      "0.5830653633885232\n",
      "nn_l\n"
     ]
    },
    {
     "name": "stderr",
     "output_type": "stream",
     "text": [
      "/anaconda3/lib/python3.6/site-packages/sklearn/neural_network/multilayer_perceptron.py:564: ConvergenceWarning: Stochastic Optimizer: Maximum iterations (200) reached and the optimization hasn't converged yet.\n",
      "  % self.max_iter, ConvergenceWarning)\n",
      "/anaconda3/lib/python3.6/site-packages/sklearn/neural_network/multilayer_perceptron.py:564: ConvergenceWarning: Stochastic Optimizer: Maximum iterations (200) reached and the optimization hasn't converged yet.\n",
      "  % self.max_iter, ConvergenceWarning)\n",
      "/anaconda3/lib/python3.6/site-packages/sklearn/neural_network/multilayer_perceptron.py:564: ConvergenceWarning: Stochastic Optimizer: Maximum iterations (200) reached and the optimization hasn't converged yet.\n",
      "  % self.max_iter, ConvergenceWarning)\n",
      "/anaconda3/lib/python3.6/site-packages/sklearn/neural_network/multilayer_perceptron.py:564: ConvergenceWarning: Stochastic Optimizer: Maximum iterations (200) reached and the optimization hasn't converged yet.\n",
      "  % self.max_iter, ConvergenceWarning)\n",
      "/anaconda3/lib/python3.6/site-packages/sklearn/neural_network/multilayer_perceptron.py:564: ConvergenceWarning: Stochastic Optimizer: Maximum iterations (200) reached and the optimization hasn't converged yet.\n",
      "  % self.max_iter, ConvergenceWarning)\n"
     ]
    },
    {
     "name": "stdout",
     "output_type": "stream",
     "text": [
      "0.5687594476583107\n",
      "xgb_2\n"
     ]
    },
    {
     "name": "stderr",
     "output_type": "stream",
     "text": [
      "/anaconda3/lib/python3.6/site-packages/sklearn/neural_network/multilayer_perceptron.py:564: ConvergenceWarning: Stochastic Optimizer: Maximum iterations (200) reached and the optimization hasn't converged yet.\n",
      "  % self.max_iter, ConvergenceWarning)\n"
     ]
    },
    {
     "name": "stdout",
     "output_type": "stream",
     "text": [
      "0.599095980081418\n",
      "lr_2\n",
      "0.5666632680955441\n",
      "rf_2\n",
      "0.5979211088207698\n",
      "svm_r_2\n",
      "0.5827148672710213\n",
      "nn_2\n"
     ]
    },
    {
     "name": "stderr",
     "output_type": "stream",
     "text": [
      "/anaconda3/lib/python3.6/site-packages/sklearn/neural_network/multilayer_perceptron.py:564: ConvergenceWarning: Stochastic Optimizer: Maximum iterations (200) reached and the optimization hasn't converged yet.\n",
      "  % self.max_iter, ConvergenceWarning)\n",
      "/anaconda3/lib/python3.6/site-packages/sklearn/neural_network/multilayer_perceptron.py:564: ConvergenceWarning: Stochastic Optimizer: Maximum iterations (200) reached and the optimization hasn't converged yet.\n",
      "  % self.max_iter, ConvergenceWarning)\n",
      "/anaconda3/lib/python3.6/site-packages/sklearn/neural_network/multilayer_perceptron.py:564: ConvergenceWarning: Stochastic Optimizer: Maximum iterations (200) reached and the optimization hasn't converged yet.\n",
      "  % self.max_iter, ConvergenceWarning)\n",
      "/anaconda3/lib/python3.6/site-packages/sklearn/neural_network/multilayer_perceptron.py:564: ConvergenceWarning: Stochastic Optimizer: Maximum iterations (200) reached and the optimization hasn't converged yet.\n",
      "  % self.max_iter, ConvergenceWarning)\n",
      "/anaconda3/lib/python3.6/site-packages/sklearn/neural_network/multilayer_perceptron.py:564: ConvergenceWarning: Stochastic Optimizer: Maximum iterations (200) reached and the optimization hasn't converged yet.\n",
      "  % self.max_iter, ConvergenceWarning)\n"
     ]
    },
    {
     "name": "stdout",
     "output_type": "stream",
     "text": [
      "0.5630980192240914\n"
     ]
    },
    {
     "name": "stderr",
     "output_type": "stream",
     "text": [
      "/anaconda3/lib/python3.6/site-packages/sklearn/neural_network/multilayer_perceptron.py:564: ConvergenceWarning: Stochastic Optimizer: Maximum iterations (200) reached and the optimization hasn't converged yet.\n",
      "  % self.max_iter, ConvergenceWarning)\n"
     ]
    }
   ],
   "source": [
    "target = Y['1']\n",
    "for name, estim, data_tr, data_test in estims_data:\n",
    "    print(name)\n",
    "    stacked_preds_1[name] = get_stack_preds(estim, data_tr.drop(columns=['id']), target, 10)\n",
    "    print(roc_auc_score(target, stacked_preds_1[name]))\n",
    "    estim.fit(data_tr.drop(columns=['id']), target)\n",
    "    test_preds_1[name] = estim.predict_proba(data_test.drop(columns=['id']))[:, 1]"
   ]
  },
  {
   "cell_type": "code",
   "execution_count": 14,
   "metadata": {},
   "outputs": [
    {
     "name": "stdout",
     "output_type": "stream",
     "text": [
      "xgb_1\n",
      "0.6209682054084039\n",
      "lr_1\n",
      "0.6085452459146563\n",
      "rf_1\n",
      "0.6210935580407675\n",
      "svm_r\n",
      "0.614337842418831\n",
      "nn_l\n"
     ]
    },
    {
     "name": "stderr",
     "output_type": "stream",
     "text": [
      "/anaconda3/lib/python3.6/site-packages/sklearn/neural_network/multilayer_perceptron.py:564: ConvergenceWarning: Stochastic Optimizer: Maximum iterations (200) reached and the optimization hasn't converged yet.\n",
      "  % self.max_iter, ConvergenceWarning)\n",
      "/anaconda3/lib/python3.6/site-packages/sklearn/neural_network/multilayer_perceptron.py:564: ConvergenceWarning: Stochastic Optimizer: Maximum iterations (200) reached and the optimization hasn't converged yet.\n",
      "  % self.max_iter, ConvergenceWarning)\n",
      "/anaconda3/lib/python3.6/site-packages/sklearn/neural_network/multilayer_perceptron.py:564: ConvergenceWarning: Stochastic Optimizer: Maximum iterations (200) reached and the optimization hasn't converged yet.\n",
      "  % self.max_iter, ConvergenceWarning)\n",
      "/anaconda3/lib/python3.6/site-packages/sklearn/neural_network/multilayer_perceptron.py:564: ConvergenceWarning: Stochastic Optimizer: Maximum iterations (200) reached and the optimization hasn't converged yet.\n",
      "  % self.max_iter, ConvergenceWarning)\n",
      "/anaconda3/lib/python3.6/site-packages/sklearn/neural_network/multilayer_perceptron.py:564: ConvergenceWarning: Stochastic Optimizer: Maximum iterations (200) reached and the optimization hasn't converged yet.\n",
      "  % self.max_iter, ConvergenceWarning)\n",
      "/anaconda3/lib/python3.6/site-packages/sklearn/neural_network/multilayer_perceptron.py:564: ConvergenceWarning: Stochastic Optimizer: Maximum iterations (200) reached and the optimization hasn't converged yet.\n",
      "  % self.max_iter, ConvergenceWarning)\n",
      "/anaconda3/lib/python3.6/site-packages/sklearn/neural_network/multilayer_perceptron.py:564: ConvergenceWarning: Stochastic Optimizer: Maximum iterations (200) reached and the optimization hasn't converged yet.\n",
      "  % self.max_iter, ConvergenceWarning)\n",
      "/anaconda3/lib/python3.6/site-packages/sklearn/neural_network/multilayer_perceptron.py:564: ConvergenceWarning: Stochastic Optimizer: Maximum iterations (200) reached and the optimization hasn't converged yet.\n",
      "  % self.max_iter, ConvergenceWarning)\n"
     ]
    },
    {
     "name": "stdout",
     "output_type": "stream",
     "text": [
      "0.6130124083836063\n",
      "xgb_2\n"
     ]
    },
    {
     "name": "stderr",
     "output_type": "stream",
     "text": [
      "/anaconda3/lib/python3.6/site-packages/sklearn/neural_network/multilayer_perceptron.py:564: ConvergenceWarning: Stochastic Optimizer: Maximum iterations (200) reached and the optimization hasn't converged yet.\n",
      "  % self.max_iter, ConvergenceWarning)\n"
     ]
    },
    {
     "name": "stdout",
     "output_type": "stream",
     "text": [
      "0.6188859357678119\n",
      "lr_2\n",
      "0.6055931428362011\n",
      "rf_2\n",
      "0.6172494106482828\n",
      "svm_r_2\n",
      "0.6117561057004491\n",
      "nn_2\n"
     ]
    },
    {
     "name": "stderr",
     "output_type": "stream",
     "text": [
      "/anaconda3/lib/python3.6/site-packages/sklearn/neural_network/multilayer_perceptron.py:564: ConvergenceWarning: Stochastic Optimizer: Maximum iterations (200) reached and the optimization hasn't converged yet.\n",
      "  % self.max_iter, ConvergenceWarning)\n",
      "/anaconda3/lib/python3.6/site-packages/sklearn/neural_network/multilayer_perceptron.py:564: ConvergenceWarning: Stochastic Optimizer: Maximum iterations (200) reached and the optimization hasn't converged yet.\n",
      "  % self.max_iter, ConvergenceWarning)\n",
      "/anaconda3/lib/python3.6/site-packages/sklearn/neural_network/multilayer_perceptron.py:564: ConvergenceWarning: Stochastic Optimizer: Maximum iterations (200) reached and the optimization hasn't converged yet.\n",
      "  % self.max_iter, ConvergenceWarning)\n",
      "/anaconda3/lib/python3.6/site-packages/sklearn/neural_network/multilayer_perceptron.py:564: ConvergenceWarning: Stochastic Optimizer: Maximum iterations (200) reached and the optimization hasn't converged yet.\n",
      "  % self.max_iter, ConvergenceWarning)\n",
      "/anaconda3/lib/python3.6/site-packages/sklearn/neural_network/multilayer_perceptron.py:564: ConvergenceWarning: Stochastic Optimizer: Maximum iterations (200) reached and the optimization hasn't converged yet.\n",
      "  % self.max_iter, ConvergenceWarning)\n",
      "/anaconda3/lib/python3.6/site-packages/sklearn/neural_network/multilayer_perceptron.py:564: ConvergenceWarning: Stochastic Optimizer: Maximum iterations (200) reached and the optimization hasn't converged yet.\n",
      "  % self.max_iter, ConvergenceWarning)\n",
      "/anaconda3/lib/python3.6/site-packages/sklearn/neural_network/multilayer_perceptron.py:564: ConvergenceWarning: Stochastic Optimizer: Maximum iterations (200) reached and the optimization hasn't converged yet.\n",
      "  % self.max_iter, ConvergenceWarning)\n",
      "/anaconda3/lib/python3.6/site-packages/sklearn/neural_network/multilayer_perceptron.py:564: ConvergenceWarning: Stochastic Optimizer: Maximum iterations (200) reached and the optimization hasn't converged yet.\n",
      "  % self.max_iter, ConvergenceWarning)\n"
     ]
    },
    {
     "name": "stdout",
     "output_type": "stream",
     "text": [
      "0.607193158828032\n"
     ]
    },
    {
     "name": "stderr",
     "output_type": "stream",
     "text": [
      "/anaconda3/lib/python3.6/site-packages/sklearn/neural_network/multilayer_perceptron.py:564: ConvergenceWarning: Stochastic Optimizer: Maximum iterations (200) reached and the optimization hasn't converged yet.\n",
      "  % self.max_iter, ConvergenceWarning)\n"
     ]
    }
   ],
   "source": [
    "target = Y['2']\n",
    "for name, estim, data_tr, data_test in estims_data:\n",
    "    print(name)\n",
    "    stacked_preds_2[name] = get_stack_preds(estim, data_tr.drop(columns=['id']), target, 10)\n",
    "    print(roc_auc_score(target, stacked_preds_2[name]))\n",
    "    estim.fit(data_tr.drop(columns=['id']), target)\n",
    "    test_preds_2[name] = estim.predict_proba(data_test.drop(columns=['id']))[:, 1]"
   ]
  },
  {
   "cell_type": "code",
   "execution_count": 15,
   "metadata": {
    "scrolled": true
   },
   "outputs": [
    {
     "name": "stdout",
     "output_type": "stream",
     "text": [
      "xgb_1\n",
      "0.627888332046969\n",
      "lr_1\n",
      "0.6173035327637426\n",
      "rf_1\n",
      "0.6170263243151775\n",
      "svm_r\n",
      "0.6059022724006676\n",
      "nn_l\n"
     ]
    },
    {
     "name": "stderr",
     "output_type": "stream",
     "text": [
      "/anaconda3/lib/python3.6/site-packages/sklearn/neural_network/multilayer_perceptron.py:564: ConvergenceWarning: Stochastic Optimizer: Maximum iterations (200) reached and the optimization hasn't converged yet.\n",
      "  % self.max_iter, ConvergenceWarning)\n",
      "/anaconda3/lib/python3.6/site-packages/sklearn/neural_network/multilayer_perceptron.py:564: ConvergenceWarning: Stochastic Optimizer: Maximum iterations (200) reached and the optimization hasn't converged yet.\n",
      "  % self.max_iter, ConvergenceWarning)\n",
      "/anaconda3/lib/python3.6/site-packages/sklearn/neural_network/multilayer_perceptron.py:564: ConvergenceWarning: Stochastic Optimizer: Maximum iterations (200) reached and the optimization hasn't converged yet.\n",
      "  % self.max_iter, ConvergenceWarning)\n",
      "/anaconda3/lib/python3.6/site-packages/sklearn/neural_network/multilayer_perceptron.py:564: ConvergenceWarning: Stochastic Optimizer: Maximum iterations (200) reached and the optimization hasn't converged yet.\n",
      "  % self.max_iter, ConvergenceWarning)\n",
      "/anaconda3/lib/python3.6/site-packages/sklearn/neural_network/multilayer_perceptron.py:564: ConvergenceWarning: Stochastic Optimizer: Maximum iterations (200) reached and the optimization hasn't converged yet.\n",
      "  % self.max_iter, ConvergenceWarning)\n",
      "/anaconda3/lib/python3.6/site-packages/sklearn/neural_network/multilayer_perceptron.py:564: ConvergenceWarning: Stochastic Optimizer: Maximum iterations (200) reached and the optimization hasn't converged yet.\n",
      "  % self.max_iter, ConvergenceWarning)\n",
      "/anaconda3/lib/python3.6/site-packages/sklearn/neural_network/multilayer_perceptron.py:564: ConvergenceWarning: Stochastic Optimizer: Maximum iterations (200) reached and the optimization hasn't converged yet.\n",
      "  % self.max_iter, ConvergenceWarning)\n"
     ]
    },
    {
     "name": "stdout",
     "output_type": "stream",
     "text": [
      "0.6229772357442438\n",
      "xgb_2\n"
     ]
    },
    {
     "name": "stderr",
     "output_type": "stream",
     "text": [
      "/anaconda3/lib/python3.6/site-packages/sklearn/neural_network/multilayer_perceptron.py:564: ConvergenceWarning: Stochastic Optimizer: Maximum iterations (200) reached and the optimization hasn't converged yet.\n",
      "  % self.max_iter, ConvergenceWarning)\n"
     ]
    },
    {
     "name": "stdout",
     "output_type": "stream",
     "text": [
      "0.6260387167799829\n",
      "lr_2\n",
      "0.6127346953584024\n",
      "rf_2\n",
      "0.6172756135079311\n",
      "svm_r_2\n",
      "0.6064121885550324\n",
      "nn_2\n"
     ]
    },
    {
     "name": "stderr",
     "output_type": "stream",
     "text": [
      "/anaconda3/lib/python3.6/site-packages/sklearn/neural_network/multilayer_perceptron.py:564: ConvergenceWarning: Stochastic Optimizer: Maximum iterations (200) reached and the optimization hasn't converged yet.\n",
      "  % self.max_iter, ConvergenceWarning)\n",
      "/anaconda3/lib/python3.6/site-packages/sklearn/neural_network/multilayer_perceptron.py:564: ConvergenceWarning: Stochastic Optimizer: Maximum iterations (200) reached and the optimization hasn't converged yet.\n",
      "  % self.max_iter, ConvergenceWarning)\n",
      "/anaconda3/lib/python3.6/site-packages/sklearn/neural_network/multilayer_perceptron.py:564: ConvergenceWarning: Stochastic Optimizer: Maximum iterations (200) reached and the optimization hasn't converged yet.\n",
      "  % self.max_iter, ConvergenceWarning)\n",
      "/anaconda3/lib/python3.6/site-packages/sklearn/neural_network/multilayer_perceptron.py:564: ConvergenceWarning: Stochastic Optimizer: Maximum iterations (200) reached and the optimization hasn't converged yet.\n",
      "  % self.max_iter, ConvergenceWarning)\n",
      "/anaconda3/lib/python3.6/site-packages/sklearn/neural_network/multilayer_perceptron.py:564: ConvergenceWarning: Stochastic Optimizer: Maximum iterations (200) reached and the optimization hasn't converged yet.\n",
      "  % self.max_iter, ConvergenceWarning)\n",
      "/anaconda3/lib/python3.6/site-packages/sklearn/neural_network/multilayer_perceptron.py:564: ConvergenceWarning: Stochastic Optimizer: Maximum iterations (200) reached and the optimization hasn't converged yet.\n",
      "  % self.max_iter, ConvergenceWarning)\n",
      "/anaconda3/lib/python3.6/site-packages/sklearn/neural_network/multilayer_perceptron.py:564: ConvergenceWarning: Stochastic Optimizer: Maximum iterations (200) reached and the optimization hasn't converged yet.\n",
      "  % self.max_iter, ConvergenceWarning)\n"
     ]
    },
    {
     "name": "stdout",
     "output_type": "stream",
     "text": [
      "0.6234307464985427\n"
     ]
    },
    {
     "name": "stderr",
     "output_type": "stream",
     "text": [
      "/anaconda3/lib/python3.6/site-packages/sklearn/neural_network/multilayer_perceptron.py:564: ConvergenceWarning: Stochastic Optimizer: Maximum iterations (200) reached and the optimization hasn't converged yet.\n",
      "  % self.max_iter, ConvergenceWarning)\n"
     ]
    }
   ],
   "source": [
    "target = Y['3']\n",
    "for name, estim, data_tr, data_test in estims_data:\n",
    "    print(name)\n",
    "    stacked_preds_3[name] = get_stack_preds(estim, data_tr.drop(columns=['id']), target, 10)\n",
    "    print(roc_auc_score(target, stacked_preds_3[name]))\n",
    "    estim.fit(data_tr.drop(columns=['id']), target)\n",
    "    test_preds_3[name] = estim.predict_proba(data_test.drop(columns=['id']))[:, 1]"
   ]
  },
  {
   "cell_type": "code",
   "execution_count": 16,
   "metadata": {},
   "outputs": [
    {
     "name": "stdout",
     "output_type": "stream",
     "text": [
      "xgb_1\n",
      "0.6158342365107904\n",
      "lr_1\n",
      "0.6155686101970559\n",
      "rf_1\n",
      "0.6180857974433072\n",
      "svm_r\n",
      "0.6027471375705313\n",
      "nn_l\n"
     ]
    },
    {
     "name": "stderr",
     "output_type": "stream",
     "text": [
      "/anaconda3/lib/python3.6/site-packages/sklearn/neural_network/multilayer_perceptron.py:564: ConvergenceWarning: Stochastic Optimizer: Maximum iterations (200) reached and the optimization hasn't converged yet.\n",
      "  % self.max_iter, ConvergenceWarning)\n",
      "/anaconda3/lib/python3.6/site-packages/sklearn/neural_network/multilayer_perceptron.py:564: ConvergenceWarning: Stochastic Optimizer: Maximum iterations (200) reached and the optimization hasn't converged yet.\n",
      "  % self.max_iter, ConvergenceWarning)\n",
      "/anaconda3/lib/python3.6/site-packages/sklearn/neural_network/multilayer_perceptron.py:564: ConvergenceWarning: Stochastic Optimizer: Maximum iterations (200) reached and the optimization hasn't converged yet.\n",
      "  % self.max_iter, ConvergenceWarning)\n",
      "/anaconda3/lib/python3.6/site-packages/sklearn/neural_network/multilayer_perceptron.py:564: ConvergenceWarning: Stochastic Optimizer: Maximum iterations (200) reached and the optimization hasn't converged yet.\n",
      "  % self.max_iter, ConvergenceWarning)\n",
      "/anaconda3/lib/python3.6/site-packages/sklearn/neural_network/multilayer_perceptron.py:564: ConvergenceWarning: Stochastic Optimizer: Maximum iterations (200) reached and the optimization hasn't converged yet.\n",
      "  % self.max_iter, ConvergenceWarning)\n",
      "/anaconda3/lib/python3.6/site-packages/sklearn/neural_network/multilayer_perceptron.py:564: ConvergenceWarning: Stochastic Optimizer: Maximum iterations (200) reached and the optimization hasn't converged yet.\n",
      "  % self.max_iter, ConvergenceWarning)\n"
     ]
    },
    {
     "name": "stdout",
     "output_type": "stream",
     "text": [
      "0.6051050929994437\n",
      "xgb_2\n"
     ]
    },
    {
     "name": "stderr",
     "output_type": "stream",
     "text": [
      "/anaconda3/lib/python3.6/site-packages/sklearn/neural_network/multilayer_perceptron.py:564: ConvergenceWarning: Stochastic Optimizer: Maximum iterations (200) reached and the optimization hasn't converged yet.\n",
      "  % self.max_iter, ConvergenceWarning)\n"
     ]
    },
    {
     "name": "stdout",
     "output_type": "stream",
     "text": [
      "0.610325621867913\n",
      "lr_2\n",
      "0.6070933311526541\n",
      "rf_2\n",
      "0.612746780522695\n",
      "svm_r_2\n",
      "0.5967567962903881\n",
      "nn_2\n"
     ]
    },
    {
     "name": "stderr",
     "output_type": "stream",
     "text": [
      "/anaconda3/lib/python3.6/site-packages/sklearn/neural_network/multilayer_perceptron.py:564: ConvergenceWarning: Stochastic Optimizer: Maximum iterations (200) reached and the optimization hasn't converged yet.\n",
      "  % self.max_iter, ConvergenceWarning)\n",
      "/anaconda3/lib/python3.6/site-packages/sklearn/neural_network/multilayer_perceptron.py:564: ConvergenceWarning: Stochastic Optimizer: Maximum iterations (200) reached and the optimization hasn't converged yet.\n",
      "  % self.max_iter, ConvergenceWarning)\n",
      "/anaconda3/lib/python3.6/site-packages/sklearn/neural_network/multilayer_perceptron.py:564: ConvergenceWarning: Stochastic Optimizer: Maximum iterations (200) reached and the optimization hasn't converged yet.\n",
      "  % self.max_iter, ConvergenceWarning)\n",
      "/anaconda3/lib/python3.6/site-packages/sklearn/neural_network/multilayer_perceptron.py:564: ConvergenceWarning: Stochastic Optimizer: Maximum iterations (200) reached and the optimization hasn't converged yet.\n",
      "  % self.max_iter, ConvergenceWarning)\n",
      "/anaconda3/lib/python3.6/site-packages/sklearn/neural_network/multilayer_perceptron.py:564: ConvergenceWarning: Stochastic Optimizer: Maximum iterations (200) reached and the optimization hasn't converged yet.\n",
      "  % self.max_iter, ConvergenceWarning)\n",
      "/anaconda3/lib/python3.6/site-packages/sklearn/neural_network/multilayer_perceptron.py:564: ConvergenceWarning: Stochastic Optimizer: Maximum iterations (200) reached and the optimization hasn't converged yet.\n",
      "  % self.max_iter, ConvergenceWarning)\n"
     ]
    },
    {
     "name": "stdout",
     "output_type": "stream",
     "text": [
      "0.5916596504847212\n"
     ]
    },
    {
     "name": "stderr",
     "output_type": "stream",
     "text": [
      "/anaconda3/lib/python3.6/site-packages/sklearn/neural_network/multilayer_perceptron.py:564: ConvergenceWarning: Stochastic Optimizer: Maximum iterations (200) reached and the optimization hasn't converged yet.\n",
      "  % self.max_iter, ConvergenceWarning)\n"
     ]
    }
   ],
   "source": [
    "target = Y['4']\n",
    "for name, estim, data_tr, data_test in estims_data:\n",
    "    print(name)\n",
    "    stacked_preds_4[name] = get_stack_preds(estim, data_tr.drop(columns=['id']), target, 10)\n",
    "    print(roc_auc_score(target, stacked_preds_4[name]))\n",
    "    estim.fit(data_tr.drop(columns=['id']), target)\n",
    "    test_preds_4[name] = estim.predict_proba(data_test.drop(columns=['id']))[:, 1]"
   ]
  },
  {
   "cell_type": "code",
   "execution_count": 17,
   "metadata": {},
   "outputs": [
    {
     "name": "stdout",
     "output_type": "stream",
     "text": [
      "xgb_1\n",
      "0.6053898892357186\n",
      "lr_1\n",
      "0.6048880741221095\n",
      "rf_1\n",
      "0.6147679081268447\n",
      "svm_r\n",
      "0.5747471655276303\n",
      "nn_l\n"
     ]
    },
    {
     "name": "stderr",
     "output_type": "stream",
     "text": [
      "/anaconda3/lib/python3.6/site-packages/sklearn/neural_network/multilayer_perceptron.py:564: ConvergenceWarning: Stochastic Optimizer: Maximum iterations (200) reached and the optimization hasn't converged yet.\n",
      "  % self.max_iter, ConvergenceWarning)\n",
      "/anaconda3/lib/python3.6/site-packages/sklearn/neural_network/multilayer_perceptron.py:564: ConvergenceWarning: Stochastic Optimizer: Maximum iterations (200) reached and the optimization hasn't converged yet.\n",
      "  % self.max_iter, ConvergenceWarning)\n",
      "/anaconda3/lib/python3.6/site-packages/sklearn/neural_network/multilayer_perceptron.py:564: ConvergenceWarning: Stochastic Optimizer: Maximum iterations (200) reached and the optimization hasn't converged yet.\n",
      "  % self.max_iter, ConvergenceWarning)\n",
      "/anaconda3/lib/python3.6/site-packages/sklearn/neural_network/multilayer_perceptron.py:564: ConvergenceWarning: Stochastic Optimizer: Maximum iterations (200) reached and the optimization hasn't converged yet.\n",
      "  % self.max_iter, ConvergenceWarning)\n",
      "/anaconda3/lib/python3.6/site-packages/sklearn/neural_network/multilayer_perceptron.py:564: ConvergenceWarning: Stochastic Optimizer: Maximum iterations (200) reached and the optimization hasn't converged yet.\n",
      "  % self.max_iter, ConvergenceWarning)\n",
      "/anaconda3/lib/python3.6/site-packages/sklearn/neural_network/multilayer_perceptron.py:564: ConvergenceWarning: Stochastic Optimizer: Maximum iterations (200) reached and the optimization hasn't converged yet.\n",
      "  % self.max_iter, ConvergenceWarning)\n",
      "/anaconda3/lib/python3.6/site-packages/sklearn/neural_network/multilayer_perceptron.py:564: ConvergenceWarning: Stochastic Optimizer: Maximum iterations (200) reached and the optimization hasn't converged yet.\n",
      "  % self.max_iter, ConvergenceWarning)\n"
     ]
    },
    {
     "name": "stdout",
     "output_type": "stream",
     "text": [
      "0.5896830080908666\n",
      "xgb_2\n"
     ]
    },
    {
     "name": "stderr",
     "output_type": "stream",
     "text": [
      "/anaconda3/lib/python3.6/site-packages/sklearn/neural_network/multilayer_perceptron.py:564: ConvergenceWarning: Stochastic Optimizer: Maximum iterations (200) reached and the optimization hasn't converged yet.\n",
      "  % self.max_iter, ConvergenceWarning)\n"
     ]
    },
    {
     "name": "stdout",
     "output_type": "stream",
     "text": [
      "0.6220782036299004\n",
      "lr_2\n",
      "0.6023088669981598\n",
      "rf_2\n",
      "0.6138952809225009\n",
      "svm_r_2\n",
      "0.5602894431445519\n",
      "nn_2\n"
     ]
    },
    {
     "name": "stderr",
     "output_type": "stream",
     "text": [
      "/anaconda3/lib/python3.6/site-packages/sklearn/neural_network/multilayer_perceptron.py:564: ConvergenceWarning: Stochastic Optimizer: Maximum iterations (200) reached and the optimization hasn't converged yet.\n",
      "  % self.max_iter, ConvergenceWarning)\n",
      "/anaconda3/lib/python3.6/site-packages/sklearn/neural_network/multilayer_perceptron.py:564: ConvergenceWarning: Stochastic Optimizer: Maximum iterations (200) reached and the optimization hasn't converged yet.\n",
      "  % self.max_iter, ConvergenceWarning)\n",
      "/anaconda3/lib/python3.6/site-packages/sklearn/neural_network/multilayer_perceptron.py:564: ConvergenceWarning: Stochastic Optimizer: Maximum iterations (200) reached and the optimization hasn't converged yet.\n",
      "  % self.max_iter, ConvergenceWarning)\n",
      "/anaconda3/lib/python3.6/site-packages/sklearn/neural_network/multilayer_perceptron.py:564: ConvergenceWarning: Stochastic Optimizer: Maximum iterations (200) reached and the optimization hasn't converged yet.\n",
      "  % self.max_iter, ConvergenceWarning)\n",
      "/anaconda3/lib/python3.6/site-packages/sklearn/neural_network/multilayer_perceptron.py:564: ConvergenceWarning: Stochastic Optimizer: Maximum iterations (200) reached and the optimization hasn't converged yet.\n",
      "  % self.max_iter, ConvergenceWarning)\n",
      "/anaconda3/lib/python3.6/site-packages/sklearn/neural_network/multilayer_perceptron.py:564: ConvergenceWarning: Stochastic Optimizer: Maximum iterations (200) reached and the optimization hasn't converged yet.\n",
      "  % self.max_iter, ConvergenceWarning)\n",
      "/anaconda3/lib/python3.6/site-packages/sklearn/neural_network/multilayer_perceptron.py:564: ConvergenceWarning: Stochastic Optimizer: Maximum iterations (200) reached and the optimization hasn't converged yet.\n",
      "  % self.max_iter, ConvergenceWarning)\n"
     ]
    },
    {
     "name": "stdout",
     "output_type": "stream",
     "text": [
      "0.5957486386988378\n"
     ]
    },
    {
     "name": "stderr",
     "output_type": "stream",
     "text": [
      "/anaconda3/lib/python3.6/site-packages/sklearn/neural_network/multilayer_perceptron.py:564: ConvergenceWarning: Stochastic Optimizer: Maximum iterations (200) reached and the optimization hasn't converged yet.\n",
      "  % self.max_iter, ConvergenceWarning)\n"
     ]
    }
   ],
   "source": [
    "target = Y['5']\n",
    "for name, estim, data_tr, data_test in estims_data:\n",
    "    print(name)\n",
    "    stacked_preds_5[name] = get_stack_preds(estim, data_tr.drop(columns=['id']), target, 10)\n",
    "    print(roc_auc_score(target, stacked_preds_5[name]))\n",
    "    estim.fit(data_tr.drop(columns=['id']), target)\n",
    "    test_preds_5[name] = estim.predict_proba(data_test.drop(columns=['id']))[:, 1]"
   ]
  },
  {
   "cell_type": "code",
   "execution_count": 18,
   "metadata": {},
   "outputs": [],
   "source": [
    "ds_1 = {}\n",
    "ds_1['cl_1'] = stacked_preds_1['xgb_1']\n",
    "ds_1['cl_10'] = stacked_preds_1['xgb_2']\n",
    "ds_1['cl_3'] = stacked_preds_1['rf_1']\n",
    "ds_1['cl_5'] = stacked_preds_1['lr_1']\n",
    "ds_1['cl_8'] = stacked_preds_1['svm_r_2']\n",
    "ds_1['cl_9'] = stacked_preds_1['nn_2']\n",
    "ds_1_test = {}\n",
    "ds_1_test['cl_1'] = test_preds_1['xgb_1']\n",
    "ds_1_test['cl_10'] = test_preds_1['xgb_2']\n",
    "ds_1_test['cl_3'] = test_preds_1['rf_1']\n",
    "ds_1_test['cl_5'] = test_preds_1['lr_1']\n",
    "ds_1_test['cl_8'] = test_preds_1['svm_r_2']\n",
    "ds_1_test['cl_9'] = test_preds_1['nn_2']\n",
    "ds_1_ = pd.DataFrame(ds_1)\n",
    "ds_1_test_ = pd.DataFrame(ds_1_test)"
   ]
  },
  {
   "cell_type": "code",
   "execution_count": 19,
   "metadata": {},
   "outputs": [],
   "source": [
    "ds_1 = {}\n",
    "ds_1['cl_1'] = stacked_preds_2['xgb_1']\n",
    "ds_1['cl_2'] = stacked_preds_2['xgb_2']\n",
    "ds_1['cl_31'] = stacked_preds_2['rf_1']\n",
    "ds_1['cl_4'] = stacked_preds_2['lr_1']\n",
    "ds_1['cl_5'] = stacked_preds_2['svm_r_2']\n",
    "ds_1['cl_6'] = stacked_preds_2['nn_2']\n",
    "ds_1_test = {}\n",
    "ds_1_test['cl_1'] = test_preds_2['xgb_1']\n",
    "ds_1_test['cl_2'] = test_preds_2['xgb_2']\n",
    "ds_1_test['cl_31'] = test_preds_2['rf_1']\n",
    "ds_1_test['cl_4'] = test_preds_2['lr_1']\n",
    "ds_1_test['cl_5'] = test_preds_2['svm_r_2']\n",
    "ds_1_test['cl_6'] = test_preds_2['nn_2']\n",
    "ds_2 = pd.DataFrame(ds_1)\n",
    "ds_2_test = pd.DataFrame(ds_1_test)"
   ]
  },
  {
   "cell_type": "code",
   "execution_count": 20,
   "metadata": {},
   "outputs": [],
   "source": [
    "ds_1 = {}\n",
    "ds_1['cl_1'] = stacked_preds_3['xgb_1']\n",
    "ds_1['cl_2'] = stacked_preds_3['xgb_2']\n",
    "ds_1['cl_3'] = stacked_preds_3['rf_1']\n",
    "ds_1['cl_4'] = stacked_preds_3['lr_1']\n",
    "ds_1['cl_5'] = stacked_preds_3['svm_r_2']\n",
    "ds_1['cl_6'] = stacked_preds_3['nn_2']\n",
    "ds_1_test = {}\n",
    "ds_1_test['cl_1'] = test_preds_3['xgb_1']\n",
    "ds_1_test['cl_2'] = test_preds_3['xgb_2']\n",
    "ds_1_test['cl_3'] = test_preds_3['rf_1']\n",
    "ds_1_test['cl_4'] = test_preds_3['lr_1']\n",
    "ds_1_test['cl_5'] = test_preds_3['svm_r_2']\n",
    "ds_1_test['cl_6'] = test_preds_3['nn_2']\n",
    "ds_3 = pd.DataFrame(ds_1)\n",
    "ds_3_test = pd.DataFrame(ds_1_test)"
   ]
  },
  {
   "cell_type": "code",
   "execution_count": 21,
   "metadata": {},
   "outputs": [],
   "source": [
    "ds_1 = {}\n",
    "ds_1['cl_1'] = stacked_preds_4['xgb_1']\n",
    "ds_1['cl_2'] = stacked_preds_4['xgb_2']\n",
    "ds_1['cl_3'] = stacked_preds_4['rf_1']\n",
    "ds_1['cl_4'] = stacked_preds_4['lr_1']\n",
    "ds_1['cl_5'] = stacked_preds_4['svm_r_2']\n",
    "ds_1['cl_6'] = stacked_preds_4['nn_2']\n",
    "ds_1_test = {}\n",
    "ds_1_test['cl_1'] = test_preds_4['xgb_1']\n",
    "ds_1_test['cl_2'] = test_preds_4['xgb_2']\n",
    "ds_1_test['cl_3'] = test_preds_4['rf_1']\n",
    "ds_1_test['cl_4'] = test_preds_4['lr_1']\n",
    "ds_1_test['cl_5'] = test_preds_4['svm_r_2']\n",
    "ds_1_test['cl_6'] = test_preds_4['nn_2']\n",
    "ds_4 = pd.DataFrame(ds_1)\n",
    "ds_4_test = pd.DataFrame(ds_1_test)"
   ]
  },
  {
   "cell_type": "code",
   "execution_count": 22,
   "metadata": {},
   "outputs": [],
   "source": [
    "ds_1 = {}\n",
    "ds_1['cl_1'] = stacked_preds_5['xgb_1']\n",
    "ds_1['cl_2'] = stacked_preds_5['xgb_2']\n",
    "ds_1['cl_3'] = stacked_preds_5['rf_1']\n",
    "ds_1['cl_4'] = stacked_preds_5['lr_1']\n",
    "ds_1['cl_5'] = stacked_preds_5['svm_r_2']\n",
    "ds_1['cl_6'] = stacked_preds_5['nn_2']\n",
    "ds_1_test = {}\n",
    "ds_1_test['cl_1'] = test_preds_5['xgb_1']\n",
    "ds_1_test['cl_2'] = test_preds_5['xgb_2']\n",
    "ds_1_test['cl_3'] = test_preds_5['rf_1']\n",
    "ds_1_test['cl_4'] = test_preds_5['lr_1']\n",
    "ds_1_test['cl_5'] = test_preds_5['svm_r_2']\n",
    "ds_1_test['cl_6'] = test_preds_5['nn_2']\n",
    "ds_5 = pd.DataFrame(ds_1)\n",
    "ds_5_test = pd.DataFrame(ds_1_test)"
   ]
  },
  {
   "cell_type": "code",
   "execution_count": 23,
   "metadata": {},
   "outputs": [],
   "source": [
    "ds_1_['id'] = X1.id\n",
    "ds_2['id'] = X1.id\n",
    "ds_3['id'] = X1.id\n",
    "ds_4['id'] = X1.id\n",
    "ds_5['id'] = X1.id\n",
    "\n",
    "ds_1_test_['id'] = X1_test.id\n",
    "ds_2_test['id'] = X1_test.id\n",
    "ds_3_test['id'] = X1_test.id\n",
    "ds_4_test['id'] = X1_test.id\n",
    "ds_5_test['id'] = X1_test.id"
   ]
  },
  {
   "cell_type": "markdown",
   "metadata": {},
   "source": [
    "# Feature extraction UMAP"
   ]
  },
  {
   "cell_type": "code",
   "execution_count": 24,
   "metadata": {},
   "outputs": [],
   "source": [
    "ustacked_preds_1 = {}\n",
    "utest_preds_1 = {}\n",
    "ustacked_preds_2 = {}\n",
    "utest_preds_2 = {}\n",
    "ustacked_preds_3 = {}\n",
    "utest_preds_3 = {}\n",
    "ustacked_preds_4 = {}\n",
    "utest_preds_4 = {}\n",
    "ustacked_preds_5 = {}\n",
    "utest_preds_5 = {}"
   ]
  },
  {
   "cell_type": "code",
   "execution_count": 25,
   "metadata": {},
   "outputs": [
    {
     "name": "stdout",
     "output_type": "stream",
     "text": [
      "UMAP(a=None, angular_rp_forest=False, b=None, init='spectral',\n",
      "   learning_rate=1.0, local_connectivity=1.0, metric='cosine',\n",
      "   metric_kwds=None, min_dist=0.1, n_components=10, n_epochs=None,\n",
      "   n_neighbors=15, negative_sample_rate=5, random_state=0,\n",
      "   repulsion_strength=1.0, set_op_mix_ratio=1.0, spread=1.0,\n",
      "   target_metric='categorical', target_metric_kwds=None,\n",
      "   target_n_neighbors=-1, target_weight=0.5, transform_queue_size=4.0,\n",
      "   transform_seed=42, verbose=True)\n",
      "Construct fuzzy simplicial set\n",
      "Mon Oct 14 12:57:14 2019 Finding Nearest Neighbors\n",
      "Mon Oct 14 12:57:14 2019 Building RP forest with 9 trees\n",
      "Mon Oct 14 12:57:28 2019 NN descent for 13 iterations\n"
     ]
    },
    {
     "name": "stderr",
     "output_type": "stream",
     "text": [
      "/anaconda3/lib/python3.6/site-packages/umap/sparse.py:247: NumbaPerformanceWarning: \u001b[1m\u001b[1m\n",
      "The keyword argument 'parallel=True' was specified but no transformation for parallel execution was possible.\n",
      "\n",
      "To find out why, try turning on parallel diagnostics, see http://numba.pydata.org/numba-doc/latest/user/parallel.html#diagnostics for help.\n",
      "\u001b[1m\n",
      "File \"../../../anaconda3/lib/python3.6/site-packages/umap/utils.py\", line 409:\u001b[0m\n",
      "\u001b[1m@numba.njit(parallel=True)\n",
      "\u001b[1mdef build_candidates(current_graph, n_vertices, n_neighbors, max_candidates, rng_state):\n",
      "\u001b[0m\u001b[1m^\u001b[0m\u001b[0m\n",
      "\u001b[0m\u001b[0m\n",
      "  current_graph, n_vertices, n_neighbors, max_candidates, rng_state\n",
      "/anaconda3/lib/python3.6/site-packages/numba/compiler.py:588: NumbaPerformanceWarning: \u001b[1m\n",
      "The keyword argument 'parallel=True' was specified but no transformation for parallel execution was possible.\n",
      "\n",
      "To find out why, try turning on parallel diagnostics, see http://numba.pydata.org/numba-doc/latest/user/parallel.html#diagnostics for help.\n",
      "\u001b[1m\n",
      "File \"../../../anaconda3/lib/python3.6/site-packages/umap/sparse.py\", line 176:\u001b[0m\n",
      "\u001b[1m    @numba.njit(parallel=True)\n",
      "\u001b[1m    def nn_descent(\n",
      "\u001b[0m    \u001b[1m^\u001b[0m\u001b[0m\n",
      "\u001b[0m\n",
      "  self.func_ir.loc))\n"
     ]
    },
    {
     "name": "stdout",
     "output_type": "stream",
     "text": [
      "\t 0  /  13\n",
      "\t 1  /  13\n",
      "\t 2  /  13\n",
      "\t 3  /  13\n",
      "\t 4  /  13\n",
      "\t 5  /  13\n",
      "\t 6  /  13\n",
      "\t 7  /  13\n",
      "\t 8  /  13\n",
      "Mon Oct 14 12:58:55 2019 Finished Nearest Neighbor Search\n",
      "Mon Oct 14 12:58:57 2019 Construct embedding\n",
      "\tcompleted  0  /  500 epochs\n",
      "\tcompleted  50  /  500 epochs\n",
      "\tcompleted  100  /  500 epochs\n",
      "\tcompleted  150  /  500 epochs\n",
      "\tcompleted  200  /  500 epochs\n",
      "\tcompleted  250  /  500 epochs\n",
      "\tcompleted  300  /  500 epochs\n",
      "\tcompleted  350  /  500 epochs\n",
      "\tcompleted  400  /  500 epochs\n",
      "\tcompleted  450  /  500 epochs\n",
      "Mon Oct 14 12:59:22 2019 Finished embedding\n"
     ]
    }
   ],
   "source": [
    "umap_ = umap.UMAP(n_components=10, random_state=0, verbose=True, metric='cosine')\n",
    "X2_ = X2.append(X2_test).sort_values('id')\n",
    "res = csr_matrix((np.ones(len(X2_)), (X2_['id'], X2_['A'])))\n",
    "fac_umap = umap_.fit_transform(res)"
   ]
  },
  {
   "cell_type": "code",
   "execution_count": 26,
   "metadata": {},
   "outputs": [],
   "source": [
    "k = 10\n",
    "fac_u = pd.DataFrame(fac_umap[X1['id']], columns=list(range(26, 26 + k)))\n",
    "fac_u_test = pd.DataFrame(fac_umap[X1_test['id']], columns=list(range(26, 26 + k)))\n",
    "fac_u['id'] = X1['id']\n",
    "fac_u_test['id'] = X1_test['id']\n",
    "UX = X1.merge(fac_u, on='id').drop(columns=['19'])\n",
    "UX_test = X1_test.merge(fac_u_test, on='id').drop(columns=['19'])"
   ]
  },
  {
   "cell_type": "markdown",
   "metadata": {},
   "source": [
    "## Stacking for UMAP features"
   ]
  },
  {
   "cell_type": "code",
   "execution_count": 27,
   "metadata": {},
   "outputs": [],
   "source": [
    "estims_data = [('xgb_1', XGBClassifier(learning_rate=0.009, max_depth=2, min_child_weight=5, n_estimators=250, random_state=0), UX, UX_test),\n",
    "               ('lgbm_1', lgb.LGBMClassifier(n_estimators=200, class_weight='balanced'), (UX - UX.mean()) / UX.std(), (UX_test- UX.mean()) / UX.std()),\n",
    "              ('lr_1', LogisticRegression(C=3, class_weight='balanced'), (UX - UX.mean()) / UX.std(), (UX_test- UX.mean()) / UX.std()),\n",
    "              ('rf_1', RandomForestClassifier(n_estimators=300, criterion='entropy', max_depth=3, random_state=0), UX, UX_test),\n",
    "               ('svm_r', SVC(C=3, class_weight='balanced', probability=True, random_state=0), (UX - UX.mean()) / UX.std(), (UX_test- UX.mean()) / UX.std()),\n",
    "               ('nn', MLPClassifier((200, 100,), solver='sgd'), (UX - UX.mean()) / UX.std(), (UX_test- UX.mean()) / UX.std())\n",
    "              ]"
   ]
  },
  {
   "cell_type": "code",
   "execution_count": 28,
   "metadata": {},
   "outputs": [],
   "source": [
    "estims_data = [('xgb_1', XGBClassifier(learning_rate=0.02, max_depth=2, min_child_weight=5, n_estimators=200, random_state=0), UX, UX_test),\n",
    "              ('lr_1', LogisticRegression(C=3, class_weight='balanced'), (UX - UX.mean()) / UX.std(), (UX_test- UX.mean()) / UX.std()),\n",
    "              ('rf_1', RandomForestClassifier(n_estimators=300, criterion='entropy', max_depth=3, random_state=0), UX, UX_test),\n",
    "               ('svm_r', SVC(C=3, class_weight='balanced', probability=True, random_state=0), (UX - UX.mean()) / UX.std(), (UX_test- UX.mean()) / UX.std()),\n",
    "               ('svm_l', MLPClassifier((200, 100,), solver='sgd'), (UX - UX.mean()) / UX.std(), (UX_test- UX.mean()) / UX.std())\n",
    "              ]"
   ]
  },
  {
   "cell_type": "code",
   "execution_count": 29,
   "metadata": {},
   "outputs": [],
   "source": [
    "estims_data = [('xgb_1', XGBClassifier(learning_rate=0.005, max_depth=2, min_child_weight=3, n_estimators=250, random_state=0), UX, UX_test),\n",
    "              ('lr_1', LogisticRegression(C=3, class_weight='balanced'), (UX - UX.mean()) / UX.std(), (UX_test- UX.mean()) / UX.std()),\n",
    "              ('rf_1', RandomForestClassifier(n_estimators=300, criterion='entropy', max_depth=3, random_state=0), UX, UX_test),\n",
    "              ('svm_r', SVC(C=3, class_weight='balanced', probability=True, random_state=0), (UX - UX.mean()) / UX.std(), (UX_test- UX.mean()) / UX.std()),\n",
    "              ('nn', MLPClassifier((200, 100,), solver='sgd'), (UX - UX.mean()) / UX.std(), (UX_test- UX.mean()) / UX.std()),]"
   ]
  },
  {
   "cell_type": "code",
   "execution_count": 30,
   "metadata": {},
   "outputs": [
    {
     "name": "stdout",
     "output_type": "stream",
     "text": [
      "xgb_1\n",
      "0.5948279658074193\n",
      "lr_1\n",
      "0.5659495681598216\n",
      "rf_1\n",
      "0.5988953166212292\n",
      "svm_r\n",
      "0.5789919542522775\n",
      "nn\n"
     ]
    },
    {
     "name": "stderr",
     "output_type": "stream",
     "text": [
      "/anaconda3/lib/python3.6/site-packages/sklearn/neural_network/multilayer_perceptron.py:564: ConvergenceWarning: Stochastic Optimizer: Maximum iterations (200) reached and the optimization hasn't converged yet.\n",
      "  % self.max_iter, ConvergenceWarning)\n",
      "/anaconda3/lib/python3.6/site-packages/sklearn/neural_network/multilayer_perceptron.py:564: ConvergenceWarning: Stochastic Optimizer: Maximum iterations (200) reached and the optimization hasn't converged yet.\n",
      "  % self.max_iter, ConvergenceWarning)\n",
      "/anaconda3/lib/python3.6/site-packages/sklearn/neural_network/multilayer_perceptron.py:564: ConvergenceWarning: Stochastic Optimizer: Maximum iterations (200) reached and the optimization hasn't converged yet.\n",
      "  % self.max_iter, ConvergenceWarning)\n",
      "/anaconda3/lib/python3.6/site-packages/sklearn/neural_network/multilayer_perceptron.py:564: ConvergenceWarning: Stochastic Optimizer: Maximum iterations (200) reached and the optimization hasn't converged yet.\n",
      "  % self.max_iter, ConvergenceWarning)\n",
      "/anaconda3/lib/python3.6/site-packages/sklearn/neural_network/multilayer_perceptron.py:564: ConvergenceWarning: Stochastic Optimizer: Maximum iterations (200) reached and the optimization hasn't converged yet.\n",
      "  % self.max_iter, ConvergenceWarning)\n"
     ]
    },
    {
     "name": "stdout",
     "output_type": "stream",
     "text": [
      "0.5596229063693656\n"
     ]
    },
    {
     "name": "stderr",
     "output_type": "stream",
     "text": [
      "/anaconda3/lib/python3.6/site-packages/sklearn/neural_network/multilayer_perceptron.py:564: ConvergenceWarning: Stochastic Optimizer: Maximum iterations (200) reached and the optimization hasn't converged yet.\n",
      "  % self.max_iter, ConvergenceWarning)\n"
     ]
    }
   ],
   "source": [
    "target = Y['1']\n",
    "for name, estim, data_tr, data_test in estims_data:\n",
    "    print(name)\n",
    "    ustacked_preds_1[name] = get_stack_preds(estim, data_tr.drop(columns=['id']), target, 10)\n",
    "    print(roc_auc_score(target, ustacked_preds_1[name]))\n",
    "    estim.fit(data_tr.drop(columns=['id']), target)\n",
    "    utest_preds_1[name] = estim.predict_proba(data_test.drop(columns=['id']))[:, 1]"
   ]
  },
  {
   "cell_type": "code",
   "execution_count": 31,
   "metadata": {},
   "outputs": [
    {
     "name": "stdout",
     "output_type": "stream",
     "text": [
      "xgb_1\n",
      "0.616926658853991\n",
      "lr_1\n",
      "0.6011595743174529\n",
      "rf_1\n",
      "0.6182455684443419\n",
      "svm_r\n",
      "0.5960716178596545\n",
      "nn\n"
     ]
    },
    {
     "name": "stderr",
     "output_type": "stream",
     "text": [
      "/anaconda3/lib/python3.6/site-packages/sklearn/neural_network/multilayer_perceptron.py:564: ConvergenceWarning: Stochastic Optimizer: Maximum iterations (200) reached and the optimization hasn't converged yet.\n",
      "  % self.max_iter, ConvergenceWarning)\n",
      "/anaconda3/lib/python3.6/site-packages/sklearn/neural_network/multilayer_perceptron.py:564: ConvergenceWarning: Stochastic Optimizer: Maximum iterations (200) reached and the optimization hasn't converged yet.\n",
      "  % self.max_iter, ConvergenceWarning)\n",
      "/anaconda3/lib/python3.6/site-packages/sklearn/neural_network/multilayer_perceptron.py:564: ConvergenceWarning: Stochastic Optimizer: Maximum iterations (200) reached and the optimization hasn't converged yet.\n",
      "  % self.max_iter, ConvergenceWarning)\n",
      "/anaconda3/lib/python3.6/site-packages/sklearn/neural_network/multilayer_perceptron.py:564: ConvergenceWarning: Stochastic Optimizer: Maximum iterations (200) reached and the optimization hasn't converged yet.\n",
      "  % self.max_iter, ConvergenceWarning)\n",
      "/anaconda3/lib/python3.6/site-packages/sklearn/neural_network/multilayer_perceptron.py:564: ConvergenceWarning: Stochastic Optimizer: Maximum iterations (200) reached and the optimization hasn't converged yet.\n",
      "  % self.max_iter, ConvergenceWarning)\n",
      "/anaconda3/lib/python3.6/site-packages/sklearn/neural_network/multilayer_perceptron.py:564: ConvergenceWarning: Stochastic Optimizer: Maximum iterations (200) reached and the optimization hasn't converged yet.\n",
      "  % self.max_iter, ConvergenceWarning)\n",
      "/anaconda3/lib/python3.6/site-packages/sklearn/neural_network/multilayer_perceptron.py:564: ConvergenceWarning: Stochastic Optimizer: Maximum iterations (200) reached and the optimization hasn't converged yet.\n",
      "  % self.max_iter, ConvergenceWarning)\n",
      "/anaconda3/lib/python3.6/site-packages/sklearn/neural_network/multilayer_perceptron.py:564: ConvergenceWarning: Stochastic Optimizer: Maximum iterations (200) reached and the optimization hasn't converged yet.\n",
      "  % self.max_iter, ConvergenceWarning)\n"
     ]
    },
    {
     "name": "stdout",
     "output_type": "stream",
     "text": [
      "0.6058205266809538\n"
     ]
    },
    {
     "name": "stderr",
     "output_type": "stream",
     "text": [
      "/anaconda3/lib/python3.6/site-packages/sklearn/neural_network/multilayer_perceptron.py:564: ConvergenceWarning: Stochastic Optimizer: Maximum iterations (200) reached and the optimization hasn't converged yet.\n",
      "  % self.max_iter, ConvergenceWarning)\n"
     ]
    }
   ],
   "source": [
    "target = Y['2']\n",
    "for name, estim, data_tr, data_test in estims_data:\n",
    "    print(name)\n",
    "    ustacked_preds_2[name] = get_stack_preds(estim, data_tr.drop(columns=['id']), target, 10)\n",
    "    print(roc_auc_score(target, ustacked_preds_2[name]))\n",
    "    estim.fit(data_tr.drop(columns=['id']), target)\n",
    "    utest_preds_2[name] = estim.predict_proba(data_test.drop(columns=['id']))[:, 1]"
   ]
  },
  {
   "cell_type": "code",
   "execution_count": 32,
   "metadata": {},
   "outputs": [
    {
     "name": "stdout",
     "output_type": "stream",
     "text": [
      "xgb_1\n",
      "0.6174734575744942\n",
      "lr_1\n",
      "0.6074952289251427\n",
      "rf_1\n",
      "0.6073741982425892\n",
      "svm_r\n",
      "0.5927022750083545\n",
      "nn\n"
     ]
    },
    {
     "name": "stderr",
     "output_type": "stream",
     "text": [
      "/anaconda3/lib/python3.6/site-packages/sklearn/neural_network/multilayer_perceptron.py:564: ConvergenceWarning: Stochastic Optimizer: Maximum iterations (200) reached and the optimization hasn't converged yet.\n",
      "  % self.max_iter, ConvergenceWarning)\n",
      "/anaconda3/lib/python3.6/site-packages/sklearn/neural_network/multilayer_perceptron.py:564: ConvergenceWarning: Stochastic Optimizer: Maximum iterations (200) reached and the optimization hasn't converged yet.\n",
      "  % self.max_iter, ConvergenceWarning)\n",
      "/anaconda3/lib/python3.6/site-packages/sklearn/neural_network/multilayer_perceptron.py:564: ConvergenceWarning: Stochastic Optimizer: Maximum iterations (200) reached and the optimization hasn't converged yet.\n",
      "  % self.max_iter, ConvergenceWarning)\n",
      "/anaconda3/lib/python3.6/site-packages/sklearn/neural_network/multilayer_perceptron.py:564: ConvergenceWarning: Stochastic Optimizer: Maximum iterations (200) reached and the optimization hasn't converged yet.\n",
      "  % self.max_iter, ConvergenceWarning)\n",
      "/anaconda3/lib/python3.6/site-packages/sklearn/neural_network/multilayer_perceptron.py:564: ConvergenceWarning: Stochastic Optimizer: Maximum iterations (200) reached and the optimization hasn't converged yet.\n",
      "  % self.max_iter, ConvergenceWarning)\n",
      "/anaconda3/lib/python3.6/site-packages/sklearn/neural_network/multilayer_perceptron.py:564: ConvergenceWarning: Stochastic Optimizer: Maximum iterations (200) reached and the optimization hasn't converged yet.\n",
      "  % self.max_iter, ConvergenceWarning)\n",
      "/anaconda3/lib/python3.6/site-packages/sklearn/neural_network/multilayer_perceptron.py:564: ConvergenceWarning: Stochastic Optimizer: Maximum iterations (200) reached and the optimization hasn't converged yet.\n",
      "  % self.max_iter, ConvergenceWarning)\n"
     ]
    },
    {
     "name": "stdout",
     "output_type": "stream",
     "text": [
      "0.6067608249473999\n"
     ]
    },
    {
     "name": "stderr",
     "output_type": "stream",
     "text": [
      "/anaconda3/lib/python3.6/site-packages/sklearn/neural_network/multilayer_perceptron.py:564: ConvergenceWarning: Stochastic Optimizer: Maximum iterations (200) reached and the optimization hasn't converged yet.\n",
      "  % self.max_iter, ConvergenceWarning)\n"
     ]
    }
   ],
   "source": [
    "target = Y['3']\n",
    "for name, estim, data_tr, data_test in estims_data:\n",
    "    print(name)\n",
    "    ustacked_preds_3[name] = get_stack_preds(estim, data_tr.drop(columns=['id']), target, 10)\n",
    "    print(roc_auc_score(target, ustacked_preds_3[name]))\n",
    "    estim.fit(data_tr.drop(columns=['id']), target)\n",
    "    utest_preds_3[name] = estim.predict_proba(data_test.drop(columns=['id']))[:, 1]"
   ]
  },
  {
   "cell_type": "code",
   "execution_count": 33,
   "metadata": {},
   "outputs": [
    {
     "name": "stdout",
     "output_type": "stream",
     "text": [
      "xgb_1\n",
      "0.6071801456064112\n",
      "lr_1\n",
      "0.6077671149728586\n",
      "rf_1\n",
      "0.6083084455634503\n",
      "svm_r\n",
      "0.5908410319373532\n",
      "nn\n"
     ]
    },
    {
     "name": "stderr",
     "output_type": "stream",
     "text": [
      "/anaconda3/lib/python3.6/site-packages/sklearn/neural_network/multilayer_perceptron.py:564: ConvergenceWarning: Stochastic Optimizer: Maximum iterations (200) reached and the optimization hasn't converged yet.\n",
      "  % self.max_iter, ConvergenceWarning)\n",
      "/anaconda3/lib/python3.6/site-packages/sklearn/neural_network/multilayer_perceptron.py:564: ConvergenceWarning: Stochastic Optimizer: Maximum iterations (200) reached and the optimization hasn't converged yet.\n",
      "  % self.max_iter, ConvergenceWarning)\n",
      "/anaconda3/lib/python3.6/site-packages/sklearn/neural_network/multilayer_perceptron.py:564: ConvergenceWarning: Stochastic Optimizer: Maximum iterations (200) reached and the optimization hasn't converged yet.\n",
      "  % self.max_iter, ConvergenceWarning)\n",
      "/anaconda3/lib/python3.6/site-packages/sklearn/neural_network/multilayer_perceptron.py:564: ConvergenceWarning: Stochastic Optimizer: Maximum iterations (200) reached and the optimization hasn't converged yet.\n",
      "  % self.max_iter, ConvergenceWarning)\n",
      "/anaconda3/lib/python3.6/site-packages/sklearn/neural_network/multilayer_perceptron.py:564: ConvergenceWarning: Stochastic Optimizer: Maximum iterations (200) reached and the optimization hasn't converged yet.\n",
      "  % self.max_iter, ConvergenceWarning)\n",
      "/anaconda3/lib/python3.6/site-packages/sklearn/neural_network/multilayer_perceptron.py:564: ConvergenceWarning: Stochastic Optimizer: Maximum iterations (200) reached and the optimization hasn't converged yet.\n",
      "  % self.max_iter, ConvergenceWarning)\n"
     ]
    },
    {
     "name": "stdout",
     "output_type": "stream",
     "text": [
      "0.5946142213304985\n"
     ]
    },
    {
     "name": "stderr",
     "output_type": "stream",
     "text": [
      "/anaconda3/lib/python3.6/site-packages/sklearn/neural_network/multilayer_perceptron.py:564: ConvergenceWarning: Stochastic Optimizer: Maximum iterations (200) reached and the optimization hasn't converged yet.\n",
      "  % self.max_iter, ConvergenceWarning)\n"
     ]
    }
   ],
   "source": [
    "target = Y['4']\n",
    "for name, estim, data_tr, data_test in estims_data:\n",
    "    print(name)\n",
    "    ustacked_preds_4[name] = get_stack_preds(estim, data_tr.drop(columns=['id']), target, 10)\n",
    "    print(roc_auc_score(target, ustacked_preds_4[name]))\n",
    "    estim.fit(data_tr.drop(columns=['id']), target)\n",
    "    utest_preds_4[name] = estim.predict_proba(data_test.drop(columns=['id']))[:, 1]"
   ]
  },
  {
   "cell_type": "code",
   "execution_count": 34,
   "metadata": {},
   "outputs": [
    {
     "name": "stdout",
     "output_type": "stream",
     "text": [
      "xgb_1\n",
      "0.5713221582216925\n",
      "lr_1\n",
      "0.5631996984479274\n",
      "rf_1\n",
      "0.582329135698705\n",
      "svm_r\n",
      "0.5435448873278679\n",
      "nn\n"
     ]
    },
    {
     "name": "stderr",
     "output_type": "stream",
     "text": [
      "/anaconda3/lib/python3.6/site-packages/sklearn/neural_network/multilayer_perceptron.py:564: ConvergenceWarning: Stochastic Optimizer: Maximum iterations (200) reached and the optimization hasn't converged yet.\n",
      "  % self.max_iter, ConvergenceWarning)\n",
      "/anaconda3/lib/python3.6/site-packages/sklearn/neural_network/multilayer_perceptron.py:564: ConvergenceWarning: Stochastic Optimizer: Maximum iterations (200) reached and the optimization hasn't converged yet.\n",
      "  % self.max_iter, ConvergenceWarning)\n",
      "/anaconda3/lib/python3.6/site-packages/sklearn/neural_network/multilayer_perceptron.py:564: ConvergenceWarning: Stochastic Optimizer: Maximum iterations (200) reached and the optimization hasn't converged yet.\n",
      "  % self.max_iter, ConvergenceWarning)\n",
      "/anaconda3/lib/python3.6/site-packages/sklearn/neural_network/multilayer_perceptron.py:564: ConvergenceWarning: Stochastic Optimizer: Maximum iterations (200) reached and the optimization hasn't converged yet.\n",
      "  % self.max_iter, ConvergenceWarning)\n",
      "/anaconda3/lib/python3.6/site-packages/sklearn/neural_network/multilayer_perceptron.py:564: ConvergenceWarning: Stochastic Optimizer: Maximum iterations (200) reached and the optimization hasn't converged yet.\n",
      "  % self.max_iter, ConvergenceWarning)\n",
      "/anaconda3/lib/python3.6/site-packages/sklearn/neural_network/multilayer_perceptron.py:564: ConvergenceWarning: Stochastic Optimizer: Maximum iterations (200) reached and the optimization hasn't converged yet.\n",
      "  % self.max_iter, ConvergenceWarning)\n",
      "/anaconda3/lib/python3.6/site-packages/sklearn/neural_network/multilayer_perceptron.py:564: ConvergenceWarning: Stochastic Optimizer: Maximum iterations (200) reached and the optimization hasn't converged yet.\n",
      "  % self.max_iter, ConvergenceWarning)\n"
     ]
    },
    {
     "name": "stdout",
     "output_type": "stream",
     "text": [
      "0.5645121798766828\n"
     ]
    },
    {
     "name": "stderr",
     "output_type": "stream",
     "text": [
      "/anaconda3/lib/python3.6/site-packages/sklearn/neural_network/multilayer_perceptron.py:564: ConvergenceWarning: Stochastic Optimizer: Maximum iterations (200) reached and the optimization hasn't converged yet.\n",
      "  % self.max_iter, ConvergenceWarning)\n"
     ]
    }
   ],
   "source": [
    "target = Y['5']\n",
    "for name, estim, data_tr, data_test in estims_data:\n",
    "    print(name)\n",
    "    ustacked_preds_5[name] = get_stack_preds(estim, data_tr.drop(columns=['id']), target, 10)\n",
    "    print(roc_auc_score(target, ustacked_preds_5[name]))\n",
    "    estim.fit(data_tr.drop(columns=['id']), target)\n",
    "    utest_preds_5[name] = estim.predict_proba(data_test.drop(columns=['id']))[:, 1]"
   ]
  },
  {
   "cell_type": "code",
   "execution_count": 35,
   "metadata": {},
   "outputs": [],
   "source": [
    "uds_1 = {}\n",
    "uds_1['ucl_1'] = ustacked_preds_1['xgb_1']\n",
    "uds_1['ucl_3'] = ustacked_preds_1['rf_1']\n",
    "uds_1['ucl_5'] = ustacked_preds_1['lr_1']\n",
    "uds_1['ucl_8'] = ustacked_preds_1['svm_r']\n",
    "uds_1['ucl_9'] = ustacked_preds_1['nn']\n",
    "uds_1_test = {}\n",
    "uds_1_test['ucl_1'] = utest_preds_1['xgb_1']\n",
    "uds_1_test['ucl_3'] = utest_preds_1['rf_1']\n",
    "uds_1_test['ucl_5'] = utest_preds_1['lr_1']\n",
    "uds_1_test['ucl_8'] = utest_preds_1['svm_r']\n",
    "uds_1_test['ucl_9'] = utest_preds_1['nn']\n",
    "uds_1_ = pd.DataFrame(uds_1)\n",
    "uds_1_test_ = pd.DataFrame(uds_1_test)"
   ]
  },
  {
   "cell_type": "code",
   "execution_count": 36,
   "metadata": {},
   "outputs": [],
   "source": [
    "uds_1 = {}\n",
    "uds_1['ucl_1'] = ustacked_preds_2['xgb_1']\n",
    "uds_1['ucl_3'] = ustacked_preds_2['rf_1']\n",
    "uds_1['ucl_5'] = ustacked_preds_2['lr_1']\n",
    "uds_1['ucl_8'] = ustacked_preds_2['svm_r']\n",
    "uds_1['ucl_9'] = ustacked_preds_2['nn']\n",
    "uds_1_test = {}\n",
    "uds_1_test['ucl_1'] = utest_preds_2['xgb_1']\n",
    "uds_1_test['ucl_3'] = utest_preds_2['rf_1']\n",
    "uds_1_test['ucl_5'] = utest_preds_2['lr_1']\n",
    "uds_1_test['ucl_8'] = utest_preds_2['svm_r']\n",
    "uds_1_test['ucl_9'] = utest_preds_2['nn']\n",
    "uds_2 = pd.DataFrame(uds_1)\n",
    "uds_2_test = pd.DataFrame(uds_1_test)"
   ]
  },
  {
   "cell_type": "code",
   "execution_count": 37,
   "metadata": {},
   "outputs": [],
   "source": [
    "uds_1 = {}\n",
    "uds_1['ucl_1'] = ustacked_preds_3['xgb_1']\n",
    "uds_1['ucl_3'] = ustacked_preds_3['rf_1']\n",
    "uds_1['ucl_5'] = ustacked_preds_3['lr_1']\n",
    "uds_1['ucl_8'] = ustacked_preds_3['svm_r']\n",
    "uds_1['ucl_9'] = ustacked_preds_3['nn']\n",
    "uds_1_test = {}\n",
    "uds_1_test['ucl_1'] = utest_preds_3['xgb_1']\n",
    "uds_1_test['ucl_3'] = utest_preds_3['rf_1']\n",
    "uds_1_test['ucl_5'] = utest_preds_3['lr_1']\n",
    "uds_1_test['ucl_8'] = utest_preds_3['svm_r']\n",
    "uds_1_test['ucl_9'] = utest_preds_3['nn']\n",
    "uds_3 = pd.DataFrame(uds_1)\n",
    "uds_3_test = pd.DataFrame(uds_1_test)"
   ]
  },
  {
   "cell_type": "code",
   "execution_count": 38,
   "metadata": {},
   "outputs": [],
   "source": [
    "uds_1 = {}\n",
    "uds_1['ucl_1'] = ustacked_preds_4['xgb_1']\n",
    "uds_1['ucl_3'] = ustacked_preds_4['rf_1']\n",
    "uds_1['ucl_5'] = ustacked_preds_4['lr_1']\n",
    "uds_1['ucl_8'] = ustacked_preds_4['svm_r']\n",
    "uds_1['ucl_9'] = ustacked_preds_4['nn']\n",
    "uds_1_test = {}\n",
    "uds_1_test['ucl_1'] = utest_preds_4['xgb_1']\n",
    "uds_1_test['ucl_3'] = utest_preds_4['rf_1']\n",
    "uds_1_test['ucl_5'] = utest_preds_4['lr_1']\n",
    "uds_1_test['ucl_8'] = utest_preds_4['svm_r']\n",
    "uds_1_test['ucl_9'] = utest_preds_4['nn']\n",
    "uds_4 = pd.DataFrame(uds_1)\n",
    "uds_4_test = pd.DataFrame(uds_1_test)"
   ]
  },
  {
   "cell_type": "code",
   "execution_count": 39,
   "metadata": {},
   "outputs": [],
   "source": [
    "uds_1 = {}\n",
    "uds_1['ucl_1'] = ustacked_preds_5['xgb_1']\n",
    "uds_1['ucl_3'] = ustacked_preds_5['rf_1']\n",
    "uds_1['ucl_5'] = ustacked_preds_5['lr_1']\n",
    "uds_1['ucl_8'] = ustacked_preds_5['svm_r']\n",
    "uds_1['ucl_9'] = ustacked_preds_5['nn']\n",
    "uds_1_test = {}\n",
    "uds_1_test['ucl_1'] = utest_preds_5['xgb_1']\n",
    "uds_1_test['ucl_3'] = utest_preds_5['rf_1']\n",
    "uds_1_test['ucl_5'] = utest_preds_5['lr_1']\n",
    "uds_1_test['ucl_8'] = utest_preds_5['svm_r']\n",
    "uds_1_test['ucl_9'] = utest_preds_5['nn']\n",
    "uds_5 = pd.DataFrame(uds_1)\n",
    "uds_5_test = pd.DataFrame(uds_1_test)"
   ]
  },
  {
   "cell_type": "markdown",
   "metadata": {},
   "source": [
    "## Merging ALS and UMAP extractions"
   ]
  },
  {
   "cell_type": "code",
   "execution_count": 40,
   "metadata": {},
   "outputs": [],
   "source": [
    "ds_1_['id'] = X1.id\n",
    "uds_1_['id'] = X1.id\n",
    "ds_1_test_['id'] = X1_test.id\n",
    "uds_1_test_['id'] = X1_test.id\n",
    "lr = LogisticRegression(class_weight='balanced', C=2)\n",
    "lr.fit(ds_1_.merge(uds_1_, on='id').drop(columns=['id']), Y['1'])\n",
    "Y1 = lr.predict_proba(ds_1_test_.merge(uds_1_test_, on='id').drop(columns=['id']))[:, 1]"
   ]
  },
  {
   "cell_type": "code",
   "execution_count": 41,
   "metadata": {},
   "outputs": [],
   "source": [
    "ds_2['id'] = X1.id\n",
    "uds_2['id'] = X1.id\n",
    "ds_2_test['id'] = X1_test.id\n",
    "uds_2_test['id'] = X1_test.id\n",
    "lr = LogisticRegression(class_weight='balanced', C=2)\n",
    "lr.fit(ds_2.merge(uds_2, on='id').drop(columns=['id']), Y['2'])\n",
    "Y2 = lr.predict_proba(ds_2_test.merge(uds_2_test, on='id').drop(columns=['id']))[:, 1]"
   ]
  },
  {
   "cell_type": "code",
   "execution_count": 42,
   "metadata": {},
   "outputs": [],
   "source": [
    "ds_3['id'] = X1.id\n",
    "uds_3['id'] = X1.id\n",
    "\n",
    "ds_3_test['id'] = X1_test.id\n",
    "uds_3_test['id'] = X1_test.id\n",
    "lr = LogisticRegression(class_weight='balanced', C=2)\n",
    "lr.fit(ds_3.merge(uds_3, on='id').drop(columns=['id']), Y['3'])\n",
    "Y3 = lr.predict_proba(ds_3_test.merge(uds_3_test, on='id').drop(columns=['id']))[:, 1]"
   ]
  },
  {
   "cell_type": "code",
   "execution_count": 43,
   "metadata": {},
   "outputs": [],
   "source": [
    "ds_4['id'] = X1.id\n",
    "uds_4['id'] = X1.id\n",
    "ds_4_test['id'] = X1_test.id\n",
    "uds_4_test['id'] = X1_test.id\n",
    "lr = LogisticRegression(class_weight='balanced', C=2)\n",
    "lr.fit(ds_4.merge(uds_4, on='id').drop(columns=['id']), Y['4'])\n",
    "Y4 = lr.predict_proba(ds_4_test.merge(uds_4_test, on='id').drop(columns=['id']))[:, 1]"
   ]
  },
  {
   "cell_type": "code",
   "execution_count": 44,
   "metadata": {},
   "outputs": [],
   "source": [
    "ds_5['id'] = X1.id\n",
    "uds_5['id'] = X1.id\n",
    "ds_5_test['id'] = X1_test.id\n",
    "uds_5_test['id'] = X1_test.id\n",
    "lr = LogisticRegression(class_weight='balanced', C=2)\n",
    "lr.fit(ds_5.merge(uds_5, on='id').drop(columns=['id']), Y['5'])\n",
    "Y5 = lr.predict_proba(ds_5_test.merge(uds_5_test, on='id').drop(columns=['id']))[:, 1]"
   ]
  },
  {
   "cell_type": "code",
   "execution_count": 46,
   "metadata": {},
   "outputs": [],
   "source": [
    "df = pd.DataFrame()\n",
    "\n",
    "df['id'] = X1_test.id\n",
    "df['1'] = Y1\n",
    "df['2'] = Y2\n",
    "df['3'] = Y3\n",
    "df['4'] = Y4\n",
    "df['5'] = Y5"
   ]
  },
  {
   "cell_type": "code",
   "execution_count": 47,
   "metadata": {},
   "outputs": [],
   "source": [
    "df.to_csv('final.csv', index=False)"
   ]
  }
 ],
 "metadata": {
  "kernelspec": {
   "display_name": "Python 3",
   "language": "python",
   "name": "python3"
  }
 },
 "nbformat": 4,
 "nbformat_minor": 2
}
