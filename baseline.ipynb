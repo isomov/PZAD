{
 "cells": [
  {
   "cell_type": "code",
   "execution_count": 533,
   "metadata": {
    "ExecuteTime": {
     "end_time": "2019-09-04T08:33:35.319634Z",
     "start_time": "2019-09-04T08:33:34.830072Z"
    }
   },
   "outputs": [],
   "source": [
    "# Import libraries and set desired options\n",
    "import matplotlib.pyplot as plt\n",
    "import numpy as np\n",
    "import pandas as pd\n",
    "import seaborn as sns\n",
    "from IPython.display import display\n",
    "from scipy import sparse, stats\n",
    "from scipy.linalg import svd\n",
    "from sklearn import preprocessing\n",
    "from sklearn.decomposition import TruncatedSVD\n",
    "from sklearn.ensemble import RandomForestClassifier\n",
    "from sklearn.metrics import f1_score, roc_auc_score\n",
    "from sklearn.model_selection import (KFold, StratifiedKFold, cross_val_score,\n",
    "                                     cross_validate, train_test_split, cross_val_predict)\n",
    "from tqdm import tqdm\n",
    "from xgboost import XGBClassifier\n",
    "from sklearn.linear_model import LogisticRegression\n",
    "from sklearn.metrics import roc_auc_score, accuracy_score"
   ]
  },
  {
   "cell_type": "markdown",
   "metadata": {},
   "source": [
    "# Read data sets"
   ]
  },
  {
   "cell_type": "code",
   "execution_count": 497,
   "metadata": {
    "ExecuteTime": {
     "end_time": "2019-09-04T08:33:36.365935Z",
     "start_time": "2019-09-04T08:33:35.903478Z"
    }
   },
   "outputs": [],
   "source": [
    "TRAIN_PATH = 'train/'\n",
    "X1 = pd.read_csv(TRAIN_PATH + 'X1.csv')\n",
    "X2 = pd.read_csv(TRAIN_PATH + 'X2.csv')\n",
    "X3 = pd.read_csv(TRAIN_PATH + 'X3.csv')\n",
    "\n",
    "Y = pd.read_csv(TRAIN_PATH + 'Y.csv')"
   ]
  },
  {
   "cell_type": "code",
   "execution_count": 10,
   "metadata": {},
   "outputs": [],
   "source": [
    "TEST_PATH = 'test/'"
   ]
  },
  {
   "cell_type": "code",
   "execution_count": 11,
   "metadata": {},
   "outputs": [],
   "source": [
    "X1_test = pd.read_csv(TEST_PATH + 'X1.csv')\n",
    "X2_test = pd.read_csv(TEST_PATH + 'X2.csv')\n",
    "X3_test = pd.read_csv(TEST_PATH + 'X3.csv')"
   ]
  },
  {
   "cell_type": "markdown",
   "metadata": {},
   "source": [
    "# Modeling"
   ]
  },
  {
   "cell_type": "code",
   "execution_count": 15,
   "metadata": {
    "ExecuteTime": {
     "end_time": "2019-09-04T08:34:08.393068Z",
     "start_time": "2019-09-04T08:34:08.374012Z"
    },
    "code_folding": []
   },
   "outputs": [],
   "source": [
    "def cross_validation_score_statement(estimator,\n",
    "                                     X,\n",
    "                                     y,\n",
    "                                     scoring,\n",
    "                                     n_splits=5,\n",
    "                                     statement=None,\n",
    "                                     random_state=0):\n",
    "    if statement is None:\n",
    "        cv = KFold(n_splits=n_splits, shuffle=False, random_state=random_state)\n",
    "        cv_iter = list(cv.split(X, y))\n",
    "    else:\n",
    "        cv = StratifiedKFold(n_splits=n_splits,\n",
    "                             shuffle=True,\n",
    "                             random_state=random_state)\n",
    "        cv_iter = list(cv.split(X, statement))\n",
    "    scores = []\n",
    "\n",
    "    for train, test in cv_iter:\n",
    "        estimator.fit(X.iloc[train, :].values, y.iloc[train].values)\n",
    "        if statement is not None:\n",
    "            y_statement = y.iloc[test].loc[statement[test]]\n",
    "            pred_statement = estimator.predict_proba(\n",
    "                X.iloc[test, :].loc[statement[test]].values)[:, 1]\n",
    "        else:\n",
    "            y_statement = y.iloc[test]\n",
    "            pred_statement = estimator.predict_proba(X.iloc[test, :].values)[:, 1]\n",
    "        scores.append(scoring(y_statement, pred_statement))\n",
    "    return np.array(scores)"
   ]
  },
  {
   "cell_type": "code",
   "execution_count": 1355,
   "metadata": {
    "scrolled": true
   },
   "outputs": [],
   "source": [
    "def get_xgb(X, Y): \n",
    "    res_ = []\n",
    "    n_estimators = [100, 200, 250]\n",
    "    min_child = [2,3,4,5]\n",
    "    max_depth = [2,3]\n",
    "    lr = [0.017, 0.009, 0.005, 0.02, 0.1]\n",
    "    for e in n_estimators:\n",
    "        for md in max_depth:\n",
    "            for mcw in min_child:\n",
    "                for l in lr:\n",
    "                    #print(e, md, mcw, l)\n",
    "                    res = cross_validation_score_statement(XGBClassifier(n_jobs=8, random_state=0, learning_rate=l, min_child_weight=mcw, max_depth=md, n_estimators=e),\n",
    "                                             X.drop(columns=['id']),\n",
    "                                             Y,\n",
    "                                             roc_auc_score,\n",
    "                                             n_splits=5,\n",
    "                                             statement=None,\n",
    "                                             random_state=0)\n",
    "                    res_.append(((e, md, mcw, l), res.min(), res))\n",
    "    return sorted(res_, key=lambda x: x[1])[-1]"
   ]
  },
  {
   "cell_type": "markdown",
   "metadata": {},
   "source": [
    "### Y1"
   ]
  },
  {
   "cell_type": "code",
   "execution_count": null,
   "metadata": {},
   "outputs": [],
   "source": [
    "res = get_xgb(X1, Y['1'])"
   ]
  },
  {
   "cell_type": "code",
   "execution_count": null,
   "metadata": {},
   "outputs": [],
   "source": [
    "res"
   ]
  },
  {
   "cell_type": "markdown",
   "metadata": {},
   "source": [
    "### Y2"
   ]
  },
  {
   "cell_type": "code",
   "execution_count": null,
   "metadata": {},
   "outputs": [],
   "source": [
    "res = get_xgb(X1, Y['2'])"
   ]
  },
  {
   "cell_type": "code",
   "execution_count": null,
   "metadata": {},
   "outputs": [],
   "source": [
    "res"
   ]
  },
  {
   "cell_type": "markdown",
   "metadata": {},
   "source": [
    "### Y3"
   ]
  },
  {
   "cell_type": "code",
   "execution_count": null,
   "metadata": {},
   "outputs": [],
   "source": [
    "res = get_xgb(X1, Y['3'])"
   ]
  },
  {
   "cell_type": "code",
   "execution_count": null,
   "metadata": {},
   "outputs": [],
   "source": [
    "res"
   ]
  },
  {
   "cell_type": "markdown",
   "metadata": {},
   "source": [
    "### Y4"
   ]
  },
  {
   "cell_type": "code",
   "execution_count": null,
   "metadata": {},
   "outputs": [],
   "source": [
    "res = get_xgb(X1, Y['4'])"
   ]
  },
  {
   "cell_type": "code",
   "execution_count": null,
   "metadata": {},
   "outputs": [],
   "source": [
    "res"
   ]
  },
  {
   "cell_type": "markdown",
   "metadata": {},
   "source": [
    "### Y5"
   ]
  },
  {
   "cell_type": "code",
   "execution_count": null,
   "metadata": {},
   "outputs": [],
   "source": [
    "res = get_xgb(X1, Y['5'])"
   ]
  },
  {
   "cell_type": "code",
   "execution_count": null,
   "metadata": {},
   "outputs": [],
   "source": [
    "res"
   ]
  },
  {
   "cell_type": "code",
   "execution_count": 552,
   "metadata": {
    "ExecuteTime": {
     "end_time": "2019-09-04T08:34:09.432841Z",
     "start_time": "2019-09-04T08:34:09.413959Z"
    },
    "code_folding": []
   },
   "outputs": [],
   "source": [
    "params = {'1': {'alpha': 0,\n",
    "  'colsample_bytree': 0.6,\n",
    "  'eta': 0.05,\n",
    "  'learning_rate': 0.017,\n",
    "  'max_delta_step': 5,\n",
    "  'max_depth': 2,\n",
    "  'min_child_samples': 100,\n",
    "  'min_child_weight': 5,\n",
    "  'n_estimators': 200,\n",
    "  'num_leaves': 44,\n",
    "  'scale_pos_weight': 1},\n",
    " '2': {'alpha': 1,\n",
    "  'colsample_bytree': 0.75,\n",
    "  'eta': 0.225,\n",
    "  'learning_rate': 0.033,\n",
    "  'max_delta_step': 9,\n",
    "  'max_depth': 1,\n",
    "  'min_child_samples': 100,\n",
    "  'min_child_weight': 2,\n",
    "  'n_estimators': 200,\n",
    "  'num_leaves': 19,\n",
    "  'scale_pos_weight': 0.75},\n",
    " '3': {'alpha': 0,\n",
    "  'colsample_bytree': 0.75,\n",
    "  'eta': 0.21,\n",
    "  'learning_rate': 0.019,\n",
    "  'max_delta_step': 3,\n",
    "  'max_depth': 3,\n",
    "  'min_child_samples': 150,\n",
    "  'min_child_weight': 4,\n",
    "  'n_estimators': 675,\n",
    "  'num_leaves': 10,\n",
    "  'scale_pos_weight': 0.75},\n",
    " '4': {'alpha': 1,\n",
    "  'colsample_bytree': 0.9,\n",
    "  'eta': 0.39,\n",
    "  'learning_rate': 0.021,\n",
    "  'max_delta_step': 5,\n",
    "  'max_depth': 1,\n",
    "  'min_child_samples': 150,\n",
    "  'min_child_weight': 7,\n",
    "  'n_estimators': 325,\n",
    "  'num_leaves': 20,\n",
    "  'scale_pos_weight': 0.75},\n",
    " '5': {'alpha': 1,\n",
    "  'colsample_bytree': 0.7,\n",
    "  'eta': 0.08,\n",
    "  'learning_rate': 0.03,\n",
    "  'max_delta_step': 9,\n",
    "  'max_depth': 1,\n",
    "  'min_child_samples': 50,\n",
    "  'min_child_weight': 10,\n",
    "  'n_estimators': 225,\n",
    "  'num_leaves': 20,\n",
    "  'scale_pos_weight': 0.75}}"
   ]
  },
  {
   "cell_type": "code",
   "execution_count": 596,
   "metadata": {
    "scrolled": true
   },
   "outputs": [
    {
     "name": "stderr",
     "output_type": "stream",
     "text": [
      "100%|██████████| 5/5 [00:02<00:00,  2.26it/s]\n"
     ]
    }
   ],
   "source": [
    "models = []\n",
    "probas = []\n",
    "scores = []\n",
    "for i in tqdm('12345'):\n",
    "    cls = XGBClassifier(n_jobs=8, random_state=0, **params[i])\n",
    "    cls.fit(X1_new.drop(columns=['id']).values, Y_cls[i].values)\n",
    "    proba = cls.predict_proba(X1_test_new.drop(columns=['id']).values)[:, 1]\n",
    "    probas += [proba]\n",
    "    models.append(cls)"
   ]
  },
  {
   "cell_type": "code",
   "execution_count": 597,
   "metadata": {},
   "outputs": [],
   "source": [
    "tmp = pd.DataFrame(probas).T\n",
    "baseline = pd.DataFrame(tmp.values, columns=['1', '2', '3', '4', '5'])\n",
    "baseline['id'] = X_test['id']\n",
    "baseline[['id', '1', '2', '3', '4', '5']].to_csv('baseline__.csv', index=False)"
   ]
  },
  {
   "cell_type": "code",
   "execution_count": 474,
   "metadata": {},
   "outputs": [],
   "source": [
    "bs0 = pd.read_csv('baseline__.csv')"
   ]
  },
  {
   "cell_type": "code",
   "execution_count": 475,
   "metadata": {},
   "outputs": [],
   "source": [
    "((bs0 + baseline) / 2)[['id', '1', '2', '3', '4', '5']].to_csv('baseline__.csv', index=False)"
   ]
  },
  {
   "cell_type": "code",
   "execution_count": null,
   "metadata": {},
   "outputs": [],
   "source": []
  }
 ],
 "metadata": {
  "hide_input": false,
  "kernelspec": {
   "display_name": "Python 3",
   "language": "python",
   "name": "python3"
  },
  "language_info": {
   "codemirror_mode": {
    "name": "ipython",
    "version": 3
   },
   "file_extension": ".py",
   "mimetype": "text/x-python",
   "name": "python",
   "nbconvert_exporter": "python",
   "pygments_lexer": "ipython3",
   "version": "3.6.4"
  },
  "toc": {
   "base_numbering": 1,
   "nav_menu": {},
   "number_sections": true,
   "sideBar": true,
   "skip_h1_title": false,
   "title_cell": "Table of Contents",
   "title_sidebar": "Contents",
   "toc_cell": false,
   "toc_position": {
    "height": "calc(100% - 180px)",
    "left": "10px",
    "top": "150px",
    "width": "246.6px"
   },
   "toc_section_display": true,
   "toc_window_display": true
  }
 },
 "nbformat": 4,
 "nbformat_minor": 2
}
