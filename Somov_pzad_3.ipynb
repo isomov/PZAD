{
 "cells": [
  {
   "cell_type": "markdown",
   "metadata": {},
   "source": [
    "### Почему совпадают максимумы?"
   ]
  },
  {
   "cell_type": "markdown",
   "metadata": {},
   "source": [
    "<img src=\"dj0.png\",width=800,height=800>"
   ]
  },
  {
   "cell_type": "markdown",
   "metadata": {},
   "source": [
    "<img src=\"dj.png\",width=600,height=600>"
   ]
  },
  {
   "cell_type": "markdown",
   "metadata": {},
   "source": [
    "## 1) accuracy_score и roc_auc_score"
   ]
  },
  {
   "cell_type": "markdown",
   "metadata": {},
   "source": [
    "Здесь roc_auc_score считался не совсем обычно: сначала ответы бинаризовались, а затем считался au roc для ответов в формате 0, 1.\n",
    "\n",
    "Таким образом, мы получаем ситуацию, ROC-кривая строится по трем точкам: (0,0), (FPR, TPR) и (1, 1) (т.к. объекты с одинаковыми скорами 0 и 1)."
   ]
  },
  {
   "cell_type": "code",
   "execution_count": 126,
   "metadata": {},
   "outputs": [],
   "source": [
    "from sklearn.metrics import roc_curve, auc\n",
    "import matplotlib.pyplot as plt\n",
    "%matplotlib inline"
   ]
  },
  {
   "cell_type": "code",
   "execution_count": 127,
   "metadata": {},
   "outputs": [
    {
     "data": {
      "text/plain": [
       "0.6666666666666667"
      ]
     },
     "execution_count": 127,
     "metadata": {},
     "output_type": "execute_result"
    }
   ],
   "source": [
    "y_true = [1,1,0,1,0,0]\n",
    "y_pred = [1,0,0,1,0,1]\n",
    "\n",
    "fpr, tpr, _ = roc_curve(y_true, y_pred)\n",
    "au_roc = auc(fpr, tpr)\n",
    "au_roc"
   ]
  },
  {
   "cell_type": "code",
   "execution_count": 128,
   "metadata": {},
   "outputs": [
    {
     "data": {
      "text/plain": [
       "[<matplotlib.lines.Line2D at 0x1232b1780>]"
      ]
     },
     "execution_count": 128,
     "metadata": {},
     "output_type": "execute_result"
    },
    {
     "data": {
      "image/png": "[encoded data removed]",
      "text/plain": [
       "<matplotlib.figure.Figure at 0x12253bf28>"
      ]
     },
     "metadata": {},
     "output_type": "display_data"
    }
   ],
   "source": [
    "plt.figure()\n",
    "plt.grid()\n",
    "lw = 2\n",
    "plt.plot([0]+list(fpr), [0]+list(tpr), lw=3)"
   ]
  },
  {
   "cell_type": "markdown",
   "metadata": {},
   "source": [
    "Соответственно, посчитаем AUC, собрав его из площадей соотв. треугольников/прямоугольников:\n",
    "\n",
    "$$AUC = \\frac{(TPR * FPR)}{2} + \\frac{(1-TPR) * (1-FPR)}{2} + (1 - FPR) * TPR = \\frac{1 + TPR - FPR}{2}$$\n",
    "$$ = \\frac{TPR + TNR}{2} $$\n",
    "Получили balanced accuracy!"
   ]
  },
  {
   "cell_type": "markdown",
   "metadata": {},
   "source": [
    "$$Accuracy = \\frac{TP + TN}{TP + TN + FP + FN}$$\n",
    "\n",
    "\n",
    "$$Balanced\\_Accuracy = \\frac{1}{2}(\\frac{TP}{TP + FN} + \\frac{TN}{TN + FP})$$"
   ]
  },
  {
   "cell_type": "markdown",
   "metadata": {},
   "source": [
    "Итак, в общем случае accuracy != balanced accuracy, но тут случай, когда выборка сбалансирована. Это значит, что \n",
    "$$TP + FN \\approx TN + FP \\approx \\frac{n}{2}$$\n",
    "Заменив соотв. слагаемые, получаем $Accuracy = Balanced\\_Accuracy$"
   ]
  },
  {
   "cell_type": "markdown",
   "metadata": {},
   "source": [
    "## 2) matthews"
   ]
  },
  {
   "cell_type": "markdown",
   "metadata": {},
   "source": [
    "Так выглядит коэффициент:\n",
    "\n",
    "$$MCC = \\frac{TP * TN - FP * FN}{\\sqrt{(TP + FP)(TP + FN)(TN + FP)(TN + FN)}}$$\n",
    "\n",
    "У нас ситуация со сбалансированными классами, так что $TP + FN \\approx TN + FP \\approx \\frac{n}{2}$"
   ]
  },
  {
   "cell_type": "markdown",
   "metadata": {},
   "source": [
    "Перепишем числитель: $TP * TN - FP * FN = TP * TN - (\\frac{n}{2} - TN) * (\\frac{n}{2} - TP)) =$\n",
    "\n",
    "$ \\frac{n}{2}(TP + TN) - \\frac{n^2}{4}$"
   ]
  },
  {
   "cell_type": "markdown",
   "metadata": {},
   "source": [
    "Перепишем знаменатель: \n",
    "$$\\sqrt{(TP + FP)(TP + FN)(TN + FP)(TN + FN)} = \\frac{n}{2}\\sqrt{(TP + FP)(TN + FN)} = \\frac{n}{2}\\sqrt{\\frac{n^4}{4} - (TP - TN)^2}$$"
   ]
  },
  {
   "cell_type": "markdown",
   "metadata": {},
   "source": [
    "Что это означает?\n",
    "\n",
    "При максимизации MCC мы хотим максимизировать $(TP + TN)$ (как в accuracy) с одной стороны.\n",
    "\n",
    "С другой хотим минимизировать $(TP - TN)^2$\n",
    "\n",
    "$TP + TN$ максимальный там же где и accuracy. Заодно $TP \\approx TN$ из-за симметричности распределений ответов."
   ]
  },
  {
   "cell_type": "markdown",
   "metadata": {},
   "source": [
    "### 3) cohen kappa score"
   ]
  },
  {
   "cell_type": "markdown",
   "metadata": {},
   "source": [
    "$$\\kappa = \\frac{Accuracy - Accuracy_{Chance}}{1 - Accuracy_{Chance}}$$\n",
    "\n",
    "$$Accuracy_{Chance} = \\frac{(TP+FP)(TP+FN) + (TN+FP)(TN+FN)}{(TP + TN + FP + FN)^2}$$"
   ]
  },
  {
   "cell_type": "markdown",
   "metadata": {},
   "source": [
    "Перепишем $Accuracy_{Chance}$ для нашего случая:\n",
    "\n",
    "$$Accuracy_{Chance}= \\frac{\\frac{n}{2} (TP+FP+TN+FN)}{n^2}= \\frac{n^2}{2n^2} = \\frac{1}{2}$$"
   ]
  },
  {
   "cell_type": "markdown",
   "metadata": {},
   "source": [
    "Получается, что это аналогично максимизации обычной точности."
   ]
  }
 ],
 "metadata": {
  "kernelspec": {
   "display_name": "Python 3",
   "language": "python",
   "name": "python3"
  },
  "language_info": {
   "codemirror_mode": {
    "name": "ipython",
    "version": 3
   },
   "file_extension": ".py",
   "mimetype": "text/x-python",
   "name": "python",
   "nbconvert_exporter": "python",
   "pygments_lexer": "ipython3",
   "version": "3.6.4"
  }
 },
 "nbformat": 4,
 "nbformat_minor": 2
}
